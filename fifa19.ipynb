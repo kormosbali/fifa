{
 "cells": [
  {
   "cell_type": "markdown",
   "metadata": {},
   "source": [
    "FIFA19 Elemzés"
   ]
  },
  {
   "cell_type": "markdown",
   "metadata": {},
   "source": [
    "Készítette:\n",
    "Somlai Blanka,\n",
    "Tóth Boglárka,\n",
    "Kormos Balázs"
   ]
  },
  {
   "cell_type": "code",
   "execution_count": 1,
   "metadata": {},
   "outputs": [],
   "source": [
    "import pandas as pd\n",
    "import numpy as np\n",
    "import matplotlib.pyplot as plt\n",
    "import seaborn as sns\n",
    "from collections import Counter"
   ]
  },
  {
   "cell_type": "code",
   "execution_count": 2,
   "metadata": {
    "scrolled": false
   },
   "outputs": [
    {
     "data": {
      "text/html": [
       "<div>\n",
       "<style scoped>\n",
       "    .dataframe tbody tr th:only-of-type {\n",
       "        vertical-align: middle;\n",
       "    }\n",
       "\n",
       "    .dataframe tbody tr th {\n",
       "        vertical-align: top;\n",
       "    }\n",
       "\n",
       "    .dataframe thead th {\n",
       "        text-align: right;\n",
       "    }\n",
       "</style>\n",
       "<table border=\"1\" class=\"dataframe\">\n",
       "  <thead>\n",
       "    <tr style=\"text-align: right;\">\n",
       "      <th></th>\n",
       "      <th>Unnamed: 0</th>\n",
       "      <th>ID</th>\n",
       "      <th>Name</th>\n",
       "      <th>Age</th>\n",
       "      <th>Photo</th>\n",
       "      <th>Nationality</th>\n",
       "      <th>Flag</th>\n",
       "      <th>Overall</th>\n",
       "      <th>Potential</th>\n",
       "      <th>Club</th>\n",
       "      <th>...</th>\n",
       "      <th>Composure</th>\n",
       "      <th>Marking</th>\n",
       "      <th>StandingTackle</th>\n",
       "      <th>SlidingTackle</th>\n",
       "      <th>GKDiving</th>\n",
       "      <th>GKHandling</th>\n",
       "      <th>GKKicking</th>\n",
       "      <th>GKPositioning</th>\n",
       "      <th>GKReflexes</th>\n",
       "      <th>Release Clause</th>\n",
       "    </tr>\n",
       "  </thead>\n",
       "  <tbody>\n",
       "    <tr>\n",
       "      <th>0</th>\n",
       "      <td>0</td>\n",
       "      <td>158023</td>\n",
       "      <td>L. Messi</td>\n",
       "      <td>31</td>\n",
       "      <td>https://cdn.sofifa.org/players/4/19/158023.png</td>\n",
       "      <td>Argentina</td>\n",
       "      <td>https://cdn.sofifa.org/flags/52.png</td>\n",
       "      <td>94</td>\n",
       "      <td>94</td>\n",
       "      <td>FC Barcelona</td>\n",
       "      <td>...</td>\n",
       "      <td>96.0</td>\n",
       "      <td>33.0</td>\n",
       "      <td>28.0</td>\n",
       "      <td>26.0</td>\n",
       "      <td>6.0</td>\n",
       "      <td>11.0</td>\n",
       "      <td>15.0</td>\n",
       "      <td>14.0</td>\n",
       "      <td>8.0</td>\n",
       "      <td>€226.5M</td>\n",
       "    </tr>\n",
       "    <tr>\n",
       "      <th>1</th>\n",
       "      <td>1</td>\n",
       "      <td>20801</td>\n",
       "      <td>Cristiano Ronaldo</td>\n",
       "      <td>33</td>\n",
       "      <td>https://cdn.sofifa.org/players/4/19/20801.png</td>\n",
       "      <td>Portugal</td>\n",
       "      <td>https://cdn.sofifa.org/flags/38.png</td>\n",
       "      <td>94</td>\n",
       "      <td>94</td>\n",
       "      <td>Juventus</td>\n",
       "      <td>...</td>\n",
       "      <td>95.0</td>\n",
       "      <td>28.0</td>\n",
       "      <td>31.0</td>\n",
       "      <td>23.0</td>\n",
       "      <td>7.0</td>\n",
       "      <td>11.0</td>\n",
       "      <td>15.0</td>\n",
       "      <td>14.0</td>\n",
       "      <td>11.0</td>\n",
       "      <td>€127.1M</td>\n",
       "    </tr>\n",
       "    <tr>\n",
       "      <th>2</th>\n",
       "      <td>2</td>\n",
       "      <td>190871</td>\n",
       "      <td>Neymar Jr</td>\n",
       "      <td>26</td>\n",
       "      <td>https://cdn.sofifa.org/players/4/19/190871.png</td>\n",
       "      <td>Brazil</td>\n",
       "      <td>https://cdn.sofifa.org/flags/54.png</td>\n",
       "      <td>92</td>\n",
       "      <td>93</td>\n",
       "      <td>Paris Saint-Germain</td>\n",
       "      <td>...</td>\n",
       "      <td>94.0</td>\n",
       "      <td>27.0</td>\n",
       "      <td>24.0</td>\n",
       "      <td>33.0</td>\n",
       "      <td>9.0</td>\n",
       "      <td>9.0</td>\n",
       "      <td>15.0</td>\n",
       "      <td>15.0</td>\n",
       "      <td>11.0</td>\n",
       "      <td>€228.1M</td>\n",
       "    </tr>\n",
       "    <tr>\n",
       "      <th>3</th>\n",
       "      <td>3</td>\n",
       "      <td>193080</td>\n",
       "      <td>De Gea</td>\n",
       "      <td>27</td>\n",
       "      <td>https://cdn.sofifa.org/players/4/19/193080.png</td>\n",
       "      <td>Spain</td>\n",
       "      <td>https://cdn.sofifa.org/flags/45.png</td>\n",
       "      <td>91</td>\n",
       "      <td>93</td>\n",
       "      <td>Manchester United</td>\n",
       "      <td>...</td>\n",
       "      <td>68.0</td>\n",
       "      <td>15.0</td>\n",
       "      <td>21.0</td>\n",
       "      <td>13.0</td>\n",
       "      <td>90.0</td>\n",
       "      <td>85.0</td>\n",
       "      <td>87.0</td>\n",
       "      <td>88.0</td>\n",
       "      <td>94.0</td>\n",
       "      <td>€138.6M</td>\n",
       "    </tr>\n",
       "    <tr>\n",
       "      <th>4</th>\n",
       "      <td>4</td>\n",
       "      <td>192985</td>\n",
       "      <td>K. De Bruyne</td>\n",
       "      <td>27</td>\n",
       "      <td>https://cdn.sofifa.org/players/4/19/192985.png</td>\n",
       "      <td>Belgium</td>\n",
       "      <td>https://cdn.sofifa.org/flags/7.png</td>\n",
       "      <td>91</td>\n",
       "      <td>92</td>\n",
       "      <td>Manchester City</td>\n",
       "      <td>...</td>\n",
       "      <td>88.0</td>\n",
       "      <td>68.0</td>\n",
       "      <td>58.0</td>\n",
       "      <td>51.0</td>\n",
       "      <td>15.0</td>\n",
       "      <td>13.0</td>\n",
       "      <td>5.0</td>\n",
       "      <td>10.0</td>\n",
       "      <td>13.0</td>\n",
       "      <td>€196.4M</td>\n",
       "    </tr>\n",
       "  </tbody>\n",
       "</table>\n",
       "<p>5 rows × 89 columns</p>\n",
       "</div>"
      ],
      "text/plain": [
       "   Unnamed: 0      ID               Name  Age  \\\n",
       "0           0  158023           L. Messi   31   \n",
       "1           1   20801  Cristiano Ronaldo   33   \n",
       "2           2  190871          Neymar Jr   26   \n",
       "3           3  193080             De Gea   27   \n",
       "4           4  192985       K. De Bruyne   27   \n",
       "\n",
       "                                            Photo Nationality  \\\n",
       "0  https://cdn.sofifa.org/players/4/19/158023.png   Argentina   \n",
       "1   https://cdn.sofifa.org/players/4/19/20801.png    Portugal   \n",
       "2  https://cdn.sofifa.org/players/4/19/190871.png      Brazil   \n",
       "3  https://cdn.sofifa.org/players/4/19/193080.png       Spain   \n",
       "4  https://cdn.sofifa.org/players/4/19/192985.png     Belgium   \n",
       "\n",
       "                                  Flag  Overall  Potential  \\\n",
       "0  https://cdn.sofifa.org/flags/52.png       94         94   \n",
       "1  https://cdn.sofifa.org/flags/38.png       94         94   \n",
       "2  https://cdn.sofifa.org/flags/54.png       92         93   \n",
       "3  https://cdn.sofifa.org/flags/45.png       91         93   \n",
       "4   https://cdn.sofifa.org/flags/7.png       91         92   \n",
       "\n",
       "                  Club  ... Composure Marking StandingTackle  SlidingTackle  \\\n",
       "0         FC Barcelona  ...      96.0    33.0           28.0           26.0   \n",
       "1             Juventus  ...      95.0    28.0           31.0           23.0   \n",
       "2  Paris Saint-Germain  ...      94.0    27.0           24.0           33.0   \n",
       "3    Manchester United  ...      68.0    15.0           21.0           13.0   \n",
       "4      Manchester City  ...      88.0    68.0           58.0           51.0   \n",
       "\n",
       "  GKDiving  GKHandling  GKKicking  GKPositioning GKReflexes Release Clause  \n",
       "0      6.0        11.0       15.0           14.0        8.0        €226.5M  \n",
       "1      7.0        11.0       15.0           14.0       11.0        €127.1M  \n",
       "2      9.0         9.0       15.0           15.0       11.0        €228.1M  \n",
       "3     90.0        85.0       87.0           88.0       94.0        €138.6M  \n",
       "4     15.0        13.0        5.0           10.0       13.0        €196.4M  \n",
       "\n",
       "[5 rows x 89 columns]"
      ]
     },
     "execution_count": 2,
     "metadata": {},
     "output_type": "execute_result"
    }
   ],
   "source": [
    "df = pd.read_csv(\"data.csv\")\n",
    "df.head()"
   ]
  },
  {
   "cell_type": "code",
   "execution_count": 3,
   "metadata": {},
   "outputs": [],
   "source": [
    "fifa = df.drop(columns=(['Photo', 'Flag', 'Club Logo', 'Real Face', 'Jersey Number', 'Contract Valid Until', 'Joined', 'Unnamed: 0']))"
   ]
  },
  {
   "cell_type": "code",
   "execution_count": 4,
   "metadata": {},
   "outputs": [
    {
     "data": {
      "text/html": [
       "<div>\n",
       "<style scoped>\n",
       "    .dataframe tbody tr th:only-of-type {\n",
       "        vertical-align: middle;\n",
       "    }\n",
       "\n",
       "    .dataframe tbody tr th {\n",
       "        vertical-align: top;\n",
       "    }\n",
       "\n",
       "    .dataframe thead th {\n",
       "        text-align: right;\n",
       "    }\n",
       "</style>\n",
       "<table border=\"1\" class=\"dataframe\">\n",
       "  <thead>\n",
       "    <tr style=\"text-align: right;\">\n",
       "      <th></th>\n",
       "      <th>ID</th>\n",
       "      <th>Name</th>\n",
       "      <th>Age</th>\n",
       "      <th>Nationality</th>\n",
       "      <th>Overall</th>\n",
       "      <th>Potential</th>\n",
       "      <th>Club</th>\n",
       "      <th>Value</th>\n",
       "      <th>Wage</th>\n",
       "      <th>Special</th>\n",
       "      <th>...</th>\n",
       "      <th>Composure</th>\n",
       "      <th>Marking</th>\n",
       "      <th>StandingTackle</th>\n",
       "      <th>SlidingTackle</th>\n",
       "      <th>GKDiving</th>\n",
       "      <th>GKHandling</th>\n",
       "      <th>GKKicking</th>\n",
       "      <th>GKPositioning</th>\n",
       "      <th>GKReflexes</th>\n",
       "      <th>Release Clause</th>\n",
       "    </tr>\n",
       "  </thead>\n",
       "  <tbody>\n",
       "    <tr>\n",
       "      <th>0</th>\n",
       "      <td>158023</td>\n",
       "      <td>L. Messi</td>\n",
       "      <td>31</td>\n",
       "      <td>Argentina</td>\n",
       "      <td>94</td>\n",
       "      <td>94</td>\n",
       "      <td>FC Barcelona</td>\n",
       "      <td>€110.5M</td>\n",
       "      <td>€565K</td>\n",
       "      <td>2202</td>\n",
       "      <td>...</td>\n",
       "      <td>96.0</td>\n",
       "      <td>33.0</td>\n",
       "      <td>28.0</td>\n",
       "      <td>26.0</td>\n",
       "      <td>6.0</td>\n",
       "      <td>11.0</td>\n",
       "      <td>15.0</td>\n",
       "      <td>14.0</td>\n",
       "      <td>8.0</td>\n",
       "      <td>€226.5M</td>\n",
       "    </tr>\n",
       "    <tr>\n",
       "      <th>1</th>\n",
       "      <td>20801</td>\n",
       "      <td>Cristiano Ronaldo</td>\n",
       "      <td>33</td>\n",
       "      <td>Portugal</td>\n",
       "      <td>94</td>\n",
       "      <td>94</td>\n",
       "      <td>Juventus</td>\n",
       "      <td>€77M</td>\n",
       "      <td>€405K</td>\n",
       "      <td>2228</td>\n",
       "      <td>...</td>\n",
       "      <td>95.0</td>\n",
       "      <td>28.0</td>\n",
       "      <td>31.0</td>\n",
       "      <td>23.0</td>\n",
       "      <td>7.0</td>\n",
       "      <td>11.0</td>\n",
       "      <td>15.0</td>\n",
       "      <td>14.0</td>\n",
       "      <td>11.0</td>\n",
       "      <td>€127.1M</td>\n",
       "    </tr>\n",
       "    <tr>\n",
       "      <th>2</th>\n",
       "      <td>190871</td>\n",
       "      <td>Neymar Jr</td>\n",
       "      <td>26</td>\n",
       "      <td>Brazil</td>\n",
       "      <td>92</td>\n",
       "      <td>93</td>\n",
       "      <td>Paris Saint-Germain</td>\n",
       "      <td>€118.5M</td>\n",
       "      <td>€290K</td>\n",
       "      <td>2143</td>\n",
       "      <td>...</td>\n",
       "      <td>94.0</td>\n",
       "      <td>27.0</td>\n",
       "      <td>24.0</td>\n",
       "      <td>33.0</td>\n",
       "      <td>9.0</td>\n",
       "      <td>9.0</td>\n",
       "      <td>15.0</td>\n",
       "      <td>15.0</td>\n",
       "      <td>11.0</td>\n",
       "      <td>€228.1M</td>\n",
       "    </tr>\n",
       "    <tr>\n",
       "      <th>3</th>\n",
       "      <td>193080</td>\n",
       "      <td>De Gea</td>\n",
       "      <td>27</td>\n",
       "      <td>Spain</td>\n",
       "      <td>91</td>\n",
       "      <td>93</td>\n",
       "      <td>Manchester United</td>\n",
       "      <td>€72M</td>\n",
       "      <td>€260K</td>\n",
       "      <td>1471</td>\n",
       "      <td>...</td>\n",
       "      <td>68.0</td>\n",
       "      <td>15.0</td>\n",
       "      <td>21.0</td>\n",
       "      <td>13.0</td>\n",
       "      <td>90.0</td>\n",
       "      <td>85.0</td>\n",
       "      <td>87.0</td>\n",
       "      <td>88.0</td>\n",
       "      <td>94.0</td>\n",
       "      <td>€138.6M</td>\n",
       "    </tr>\n",
       "    <tr>\n",
       "      <th>4</th>\n",
       "      <td>192985</td>\n",
       "      <td>K. De Bruyne</td>\n",
       "      <td>27</td>\n",
       "      <td>Belgium</td>\n",
       "      <td>91</td>\n",
       "      <td>92</td>\n",
       "      <td>Manchester City</td>\n",
       "      <td>€102M</td>\n",
       "      <td>€355K</td>\n",
       "      <td>2281</td>\n",
       "      <td>...</td>\n",
       "      <td>88.0</td>\n",
       "      <td>68.0</td>\n",
       "      <td>58.0</td>\n",
       "      <td>51.0</td>\n",
       "      <td>15.0</td>\n",
       "      <td>13.0</td>\n",
       "      <td>5.0</td>\n",
       "      <td>10.0</td>\n",
       "      <td>13.0</td>\n",
       "      <td>€196.4M</td>\n",
       "    </tr>\n",
       "  </tbody>\n",
       "</table>\n",
       "<p>5 rows × 81 columns</p>\n",
       "</div>"
      ],
      "text/plain": [
       "       ID               Name  Age Nationality  Overall  Potential  \\\n",
       "0  158023           L. Messi   31   Argentina       94         94   \n",
       "1   20801  Cristiano Ronaldo   33    Portugal       94         94   \n",
       "2  190871          Neymar Jr   26      Brazil       92         93   \n",
       "3  193080             De Gea   27       Spain       91         93   \n",
       "4  192985       K. De Bruyne   27     Belgium       91         92   \n",
       "\n",
       "                  Club    Value   Wage  Special  ... Composure  Marking  \\\n",
       "0         FC Barcelona  €110.5M  €565K     2202  ...      96.0     33.0   \n",
       "1             Juventus     €77M  €405K     2228  ...      95.0     28.0   \n",
       "2  Paris Saint-Germain  €118.5M  €290K     2143  ...      94.0     27.0   \n",
       "3    Manchester United     €72M  €260K     1471  ...      68.0     15.0   \n",
       "4      Manchester City    €102M  €355K     2281  ...      88.0     68.0   \n",
       "\n",
       "   StandingTackle  SlidingTackle GKDiving GKHandling GKKicking GKPositioning  \\\n",
       "0            28.0           26.0      6.0       11.0      15.0          14.0   \n",
       "1            31.0           23.0      7.0       11.0      15.0          14.0   \n",
       "2            24.0           33.0      9.0        9.0      15.0          15.0   \n",
       "3            21.0           13.0     90.0       85.0      87.0          88.0   \n",
       "4            58.0           51.0     15.0       13.0       5.0          10.0   \n",
       "\n",
       "  GKReflexes Release Clause  \n",
       "0        8.0        €226.5M  \n",
       "1       11.0        €127.1M  \n",
       "2       11.0        €228.1M  \n",
       "3       94.0        €138.6M  \n",
       "4       13.0        €196.4M  \n",
       "\n",
       "[5 rows x 81 columns]"
      ]
     },
     "execution_count": 4,
     "metadata": {},
     "output_type": "execute_result"
    }
   ],
   "source": [
    "fifa.head()"
   ]
  },
  {
   "cell_type": "code",
   "execution_count": 5,
   "metadata": {},
   "outputs": [
    {
     "name": "stdout",
     "output_type": "stream",
     "text": [
      "<class 'pandas.core.frame.DataFrame'>\n",
      "RangeIndex: 18207 entries, 0 to 18206\n",
      "Data columns (total 81 columns):\n",
      " #   Column                    Non-Null Count  Dtype  \n",
      "---  ------                    --------------  -----  \n",
      " 0   ID                        18207 non-null  int64  \n",
      " 1   Name                      18207 non-null  object \n",
      " 2   Age                       18207 non-null  int64  \n",
      " 3   Nationality               18207 non-null  object \n",
      " 4   Overall                   18207 non-null  int64  \n",
      " 5   Potential                 18207 non-null  int64  \n",
      " 6   Club                      17966 non-null  object \n",
      " 7   Value                     18207 non-null  object \n",
      " 8   Wage                      18207 non-null  object \n",
      " 9   Special                   18207 non-null  int64  \n",
      " 10  Preferred Foot            18159 non-null  object \n",
      " 11  International Reputation  18159 non-null  float64\n",
      " 12  Weak Foot                 18159 non-null  float64\n",
      " 13  Skill Moves               18159 non-null  float64\n",
      " 14  Work Rate                 18159 non-null  object \n",
      " 15  Body Type                 18159 non-null  object \n",
      " 16  Position                  18147 non-null  object \n",
      " 17  Loaned From               1264 non-null   object \n",
      " 18  Height                    18159 non-null  object \n",
      " 19  Weight                    18159 non-null  object \n",
      " 20  LS                        16122 non-null  object \n",
      " 21  ST                        16122 non-null  object \n",
      " 22  RS                        16122 non-null  object \n",
      " 23  LW                        16122 non-null  object \n",
      " 24  LF                        16122 non-null  object \n",
      " 25  CF                        16122 non-null  object \n",
      " 26  RF                        16122 non-null  object \n",
      " 27  RW                        16122 non-null  object \n",
      " 28  LAM                       16122 non-null  object \n",
      " 29  CAM                       16122 non-null  object \n",
      " 30  RAM                       16122 non-null  object \n",
      " 31  LM                        16122 non-null  object \n",
      " 32  LCM                       16122 non-null  object \n",
      " 33  CM                        16122 non-null  object \n",
      " 34  RCM                       16122 non-null  object \n",
      " 35  RM                        16122 non-null  object \n",
      " 36  LWB                       16122 non-null  object \n",
      " 37  LDM                       16122 non-null  object \n",
      " 38  CDM                       16122 non-null  object \n",
      " 39  RDM                       16122 non-null  object \n",
      " 40  RWB                       16122 non-null  object \n",
      " 41  LB                        16122 non-null  object \n",
      " 42  LCB                       16122 non-null  object \n",
      " 43  CB                        16122 non-null  object \n",
      " 44  RCB                       16122 non-null  object \n",
      " 45  RB                        16122 non-null  object \n",
      " 46  Crossing                  18159 non-null  float64\n",
      " 47  Finishing                 18159 non-null  float64\n",
      " 48  HeadingAccuracy           18159 non-null  float64\n",
      " 49  ShortPassing              18159 non-null  float64\n",
      " 50  Volleys                   18159 non-null  float64\n",
      " 51  Dribbling                 18159 non-null  float64\n",
      " 52  Curve                     18159 non-null  float64\n",
      " 53  FKAccuracy                18159 non-null  float64\n",
      " 54  LongPassing               18159 non-null  float64\n",
      " 55  BallControl               18159 non-null  float64\n",
      " 56  Acceleration              18159 non-null  float64\n",
      " 57  SprintSpeed               18159 non-null  float64\n",
      " 58  Agility                   18159 non-null  float64\n",
      " 59  Reactions                 18159 non-null  float64\n",
      " 60  Balance                   18159 non-null  float64\n",
      " 61  ShotPower                 18159 non-null  float64\n",
      " 62  Jumping                   18159 non-null  float64\n",
      " 63  Stamina                   18159 non-null  float64\n",
      " 64  Strength                  18159 non-null  float64\n",
      " 65  LongShots                 18159 non-null  float64\n",
      " 66  Aggression                18159 non-null  float64\n",
      " 67  Interceptions             18159 non-null  float64\n",
      " 68  Positioning               18159 non-null  float64\n",
      " 69  Vision                    18159 non-null  float64\n",
      " 70  Penalties                 18159 non-null  float64\n",
      " 71  Composure                 18159 non-null  float64\n",
      " 72  Marking                   18159 non-null  float64\n",
      " 73  StandingTackle            18159 non-null  float64\n",
      " 74  SlidingTackle             18159 non-null  float64\n",
      " 75  GKDiving                  18159 non-null  float64\n",
      " 76  GKHandling                18159 non-null  float64\n",
      " 77  GKKicking                 18159 non-null  float64\n",
      " 78  GKPositioning             18159 non-null  float64\n",
      " 79  GKReflexes                18159 non-null  float64\n",
      " 80  Release Clause            16643 non-null  object \n",
      "dtypes: float64(37), int64(5), object(39)\n",
      "memory usage: 11.3+ MB\n"
     ]
    }
   ],
   "source": [
    "fifa.info()"
   ]
  },
  {
   "cell_type": "code",
   "execution_count": 6,
   "metadata": {},
   "outputs": [
    {
     "data": {
      "text/html": [
       "<div>\n",
       "<style scoped>\n",
       "    .dataframe tbody tr th:only-of-type {\n",
       "        vertical-align: middle;\n",
       "    }\n",
       "\n",
       "    .dataframe tbody tr th {\n",
       "        vertical-align: top;\n",
       "    }\n",
       "\n",
       "    .dataframe thead th {\n",
       "        text-align: right;\n",
       "    }\n",
       "</style>\n",
       "<table border=\"1\" class=\"dataframe\">\n",
       "  <thead>\n",
       "    <tr style=\"text-align: right;\">\n",
       "      <th></th>\n",
       "      <th>ID</th>\n",
       "      <th>Age</th>\n",
       "      <th>Overall</th>\n",
       "      <th>Potential</th>\n",
       "      <th>Special</th>\n",
       "      <th>International Reputation</th>\n",
       "      <th>Weak Foot</th>\n",
       "      <th>Skill Moves</th>\n",
       "      <th>Crossing</th>\n",
       "      <th>Finishing</th>\n",
       "      <th>...</th>\n",
       "      <th>Penalties</th>\n",
       "      <th>Composure</th>\n",
       "      <th>Marking</th>\n",
       "      <th>StandingTackle</th>\n",
       "      <th>SlidingTackle</th>\n",
       "      <th>GKDiving</th>\n",
       "      <th>GKHandling</th>\n",
       "      <th>GKKicking</th>\n",
       "      <th>GKPositioning</th>\n",
       "      <th>GKReflexes</th>\n",
       "    </tr>\n",
       "  </thead>\n",
       "  <tbody>\n",
       "    <tr>\n",
       "      <th>count</th>\n",
       "      <td>18207.000000</td>\n",
       "      <td>18207.000000</td>\n",
       "      <td>18207.000000</td>\n",
       "      <td>18207.000000</td>\n",
       "      <td>18207.000000</td>\n",
       "      <td>18159.000000</td>\n",
       "      <td>18159.000000</td>\n",
       "      <td>18159.000000</td>\n",
       "      <td>18159.000000</td>\n",
       "      <td>18159.000000</td>\n",
       "      <td>...</td>\n",
       "      <td>18159.000000</td>\n",
       "      <td>18159.000000</td>\n",
       "      <td>18159.000000</td>\n",
       "      <td>18159.000000</td>\n",
       "      <td>18159.000000</td>\n",
       "      <td>18159.000000</td>\n",
       "      <td>18159.000000</td>\n",
       "      <td>18159.000000</td>\n",
       "      <td>18159.000000</td>\n",
       "      <td>18159.000000</td>\n",
       "    </tr>\n",
       "    <tr>\n",
       "      <th>mean</th>\n",
       "      <td>214298.338606</td>\n",
       "      <td>25.122206</td>\n",
       "      <td>66.238699</td>\n",
       "      <td>71.307299</td>\n",
       "      <td>1597.809908</td>\n",
       "      <td>1.113222</td>\n",
       "      <td>2.947299</td>\n",
       "      <td>2.361308</td>\n",
       "      <td>49.734181</td>\n",
       "      <td>45.550911</td>\n",
       "      <td>...</td>\n",
       "      <td>48.548598</td>\n",
       "      <td>58.648274</td>\n",
       "      <td>47.281623</td>\n",
       "      <td>47.697836</td>\n",
       "      <td>45.661435</td>\n",
       "      <td>16.616223</td>\n",
       "      <td>16.391596</td>\n",
       "      <td>16.232061</td>\n",
       "      <td>16.388898</td>\n",
       "      <td>16.710887</td>\n",
       "    </tr>\n",
       "    <tr>\n",
       "      <th>std</th>\n",
       "      <td>29965.244204</td>\n",
       "      <td>4.669943</td>\n",
       "      <td>6.908930</td>\n",
       "      <td>6.136496</td>\n",
       "      <td>272.586016</td>\n",
       "      <td>0.394031</td>\n",
       "      <td>0.660456</td>\n",
       "      <td>0.756164</td>\n",
       "      <td>18.364524</td>\n",
       "      <td>19.525820</td>\n",
       "      <td>...</td>\n",
       "      <td>15.704053</td>\n",
       "      <td>11.436133</td>\n",
       "      <td>19.904397</td>\n",
       "      <td>21.664004</td>\n",
       "      <td>21.289135</td>\n",
       "      <td>17.695349</td>\n",
       "      <td>16.906900</td>\n",
       "      <td>16.502864</td>\n",
       "      <td>17.034669</td>\n",
       "      <td>17.955119</td>\n",
       "    </tr>\n",
       "    <tr>\n",
       "      <th>min</th>\n",
       "      <td>16.000000</td>\n",
       "      <td>16.000000</td>\n",
       "      <td>46.000000</td>\n",
       "      <td>48.000000</td>\n",
       "      <td>731.000000</td>\n",
       "      <td>1.000000</td>\n",
       "      <td>1.000000</td>\n",
       "      <td>1.000000</td>\n",
       "      <td>5.000000</td>\n",
       "      <td>2.000000</td>\n",
       "      <td>...</td>\n",
       "      <td>5.000000</td>\n",
       "      <td>3.000000</td>\n",
       "      <td>3.000000</td>\n",
       "      <td>2.000000</td>\n",
       "      <td>3.000000</td>\n",
       "      <td>1.000000</td>\n",
       "      <td>1.000000</td>\n",
       "      <td>1.000000</td>\n",
       "      <td>1.000000</td>\n",
       "      <td>1.000000</td>\n",
       "    </tr>\n",
       "    <tr>\n",
       "      <th>25%</th>\n",
       "      <td>200315.500000</td>\n",
       "      <td>21.000000</td>\n",
       "      <td>62.000000</td>\n",
       "      <td>67.000000</td>\n",
       "      <td>1457.000000</td>\n",
       "      <td>1.000000</td>\n",
       "      <td>3.000000</td>\n",
       "      <td>2.000000</td>\n",
       "      <td>38.000000</td>\n",
       "      <td>30.000000</td>\n",
       "      <td>...</td>\n",
       "      <td>39.000000</td>\n",
       "      <td>51.000000</td>\n",
       "      <td>30.000000</td>\n",
       "      <td>27.000000</td>\n",
       "      <td>24.000000</td>\n",
       "      <td>8.000000</td>\n",
       "      <td>8.000000</td>\n",
       "      <td>8.000000</td>\n",
       "      <td>8.000000</td>\n",
       "      <td>8.000000</td>\n",
       "    </tr>\n",
       "    <tr>\n",
       "      <th>50%</th>\n",
       "      <td>221759.000000</td>\n",
       "      <td>25.000000</td>\n",
       "      <td>66.000000</td>\n",
       "      <td>71.000000</td>\n",
       "      <td>1635.000000</td>\n",
       "      <td>1.000000</td>\n",
       "      <td>3.000000</td>\n",
       "      <td>2.000000</td>\n",
       "      <td>54.000000</td>\n",
       "      <td>49.000000</td>\n",
       "      <td>...</td>\n",
       "      <td>49.000000</td>\n",
       "      <td>60.000000</td>\n",
       "      <td>53.000000</td>\n",
       "      <td>55.000000</td>\n",
       "      <td>52.000000</td>\n",
       "      <td>11.000000</td>\n",
       "      <td>11.000000</td>\n",
       "      <td>11.000000</td>\n",
       "      <td>11.000000</td>\n",
       "      <td>11.000000</td>\n",
       "    </tr>\n",
       "    <tr>\n",
       "      <th>75%</th>\n",
       "      <td>236529.500000</td>\n",
       "      <td>28.000000</td>\n",
       "      <td>71.000000</td>\n",
       "      <td>75.000000</td>\n",
       "      <td>1787.000000</td>\n",
       "      <td>1.000000</td>\n",
       "      <td>3.000000</td>\n",
       "      <td>3.000000</td>\n",
       "      <td>64.000000</td>\n",
       "      <td>62.000000</td>\n",
       "      <td>...</td>\n",
       "      <td>60.000000</td>\n",
       "      <td>67.000000</td>\n",
       "      <td>64.000000</td>\n",
       "      <td>66.000000</td>\n",
       "      <td>64.000000</td>\n",
       "      <td>14.000000</td>\n",
       "      <td>14.000000</td>\n",
       "      <td>14.000000</td>\n",
       "      <td>14.000000</td>\n",
       "      <td>14.000000</td>\n",
       "    </tr>\n",
       "    <tr>\n",
       "      <th>max</th>\n",
       "      <td>246620.000000</td>\n",
       "      <td>45.000000</td>\n",
       "      <td>94.000000</td>\n",
       "      <td>95.000000</td>\n",
       "      <td>2346.000000</td>\n",
       "      <td>5.000000</td>\n",
       "      <td>5.000000</td>\n",
       "      <td>5.000000</td>\n",
       "      <td>93.000000</td>\n",
       "      <td>95.000000</td>\n",
       "      <td>...</td>\n",
       "      <td>92.000000</td>\n",
       "      <td>96.000000</td>\n",
       "      <td>94.000000</td>\n",
       "      <td>93.000000</td>\n",
       "      <td>91.000000</td>\n",
       "      <td>90.000000</td>\n",
       "      <td>92.000000</td>\n",
       "      <td>91.000000</td>\n",
       "      <td>90.000000</td>\n",
       "      <td>94.000000</td>\n",
       "    </tr>\n",
       "  </tbody>\n",
       "</table>\n",
       "<p>8 rows × 42 columns</p>\n",
       "</div>"
      ],
      "text/plain": [
       "                  ID           Age       Overall     Potential       Special  \\\n",
       "count   18207.000000  18207.000000  18207.000000  18207.000000  18207.000000   \n",
       "mean   214298.338606     25.122206     66.238699     71.307299   1597.809908   \n",
       "std     29965.244204      4.669943      6.908930      6.136496    272.586016   \n",
       "min        16.000000     16.000000     46.000000     48.000000    731.000000   \n",
       "25%    200315.500000     21.000000     62.000000     67.000000   1457.000000   \n",
       "50%    221759.000000     25.000000     66.000000     71.000000   1635.000000   \n",
       "75%    236529.500000     28.000000     71.000000     75.000000   1787.000000   \n",
       "max    246620.000000     45.000000     94.000000     95.000000   2346.000000   \n",
       "\n",
       "       International Reputation     Weak Foot   Skill Moves      Crossing  \\\n",
       "count              18159.000000  18159.000000  18159.000000  18159.000000   \n",
       "mean                   1.113222      2.947299      2.361308     49.734181   \n",
       "std                    0.394031      0.660456      0.756164     18.364524   \n",
       "min                    1.000000      1.000000      1.000000      5.000000   \n",
       "25%                    1.000000      3.000000      2.000000     38.000000   \n",
       "50%                    1.000000      3.000000      2.000000     54.000000   \n",
       "75%                    1.000000      3.000000      3.000000     64.000000   \n",
       "max                    5.000000      5.000000      5.000000     93.000000   \n",
       "\n",
       "          Finishing  ...     Penalties     Composure       Marking  \\\n",
       "count  18159.000000  ...  18159.000000  18159.000000  18159.000000   \n",
       "mean      45.550911  ...     48.548598     58.648274     47.281623   \n",
       "std       19.525820  ...     15.704053     11.436133     19.904397   \n",
       "min        2.000000  ...      5.000000      3.000000      3.000000   \n",
       "25%       30.000000  ...     39.000000     51.000000     30.000000   \n",
       "50%       49.000000  ...     49.000000     60.000000     53.000000   \n",
       "75%       62.000000  ...     60.000000     67.000000     64.000000   \n",
       "max       95.000000  ...     92.000000     96.000000     94.000000   \n",
       "\n",
       "       StandingTackle  SlidingTackle      GKDiving    GKHandling  \\\n",
       "count    18159.000000   18159.000000  18159.000000  18159.000000   \n",
       "mean        47.697836      45.661435     16.616223     16.391596   \n",
       "std         21.664004      21.289135     17.695349     16.906900   \n",
       "min          2.000000       3.000000      1.000000      1.000000   \n",
       "25%         27.000000      24.000000      8.000000      8.000000   \n",
       "50%         55.000000      52.000000     11.000000     11.000000   \n",
       "75%         66.000000      64.000000     14.000000     14.000000   \n",
       "max         93.000000      91.000000     90.000000     92.000000   \n",
       "\n",
       "          GKKicking  GKPositioning    GKReflexes  \n",
       "count  18159.000000   18159.000000  18159.000000  \n",
       "mean      16.232061      16.388898     16.710887  \n",
       "std       16.502864      17.034669     17.955119  \n",
       "min        1.000000       1.000000      1.000000  \n",
       "25%        8.000000       8.000000      8.000000  \n",
       "50%       11.000000      11.000000     11.000000  \n",
       "75%       14.000000      14.000000     14.000000  \n",
       "max       91.000000      90.000000     94.000000  \n",
       "\n",
       "[8 rows x 42 columns]"
      ]
     },
     "execution_count": 6,
     "metadata": {},
     "output_type": "execute_result"
    }
   ],
   "source": [
    "fifa.describe()"
   ]
  },
  {
   "cell_type": "code",
   "execution_count": 7,
   "metadata": {},
   "outputs": [
    {
     "data": {
      "image/png": "[encoded data removed]",
      "text/plain": [
       "<Figure size 576x576 with 1 Axes>"
      ]
     },
     "metadata": {
      "needs_background": "light"
     },
     "output_type": "display_data"
    }
   ],
   "source": [
    "sns.set_palette(\"colorblind\")\n",
    "plt.figure(figsize=(8,8))\n",
    "sns.histplot(data=fifa, x=\"Age\",color=\"lightgreen\")\n",
    "plt.show()"
   ]
  },
  {
   "cell_type": "code",
   "execution_count": 8,
   "metadata": {},
   "outputs": [
    {
     "data": {
      "image/png": "[encoded data removed]",
      "text/plain": [
       "<Figure size 720x576 with 1 Axes>"
      ]
     },
     "metadata": {
      "needs_background": "light"
     },
     "output_type": "display_data"
    }
   ],
   "source": [
    "newData = Counter(fifa[\"Nationality\"])\n",
    "most_countries = newData.most_common(10)\n",
    "\n",
    "x,y = zip(*most_countries)\n",
    "x,y = list(x),list(y)\n",
    "# diagram\n",
    "plt.figure(figsize=(10,8))\n",
    "ax= sns.barplot(x=x, y=y) \n",
    "plt.xlabel('Nemzetiség', size = 15) \n",
    "plt.ylabel('Focisták száma', size=15) \n",
    "plt.title('A 10 legtöbb focistával rendelkező ország',size=20) \n",
    "plt.show()"
   ]
  },
  {
   "cell_type": "code",
   "execution_count": 9,
   "metadata": {},
   "outputs": [
    {
     "data": {
      "image/png": "[encoded data removed]",
      "text/plain": [
       "<Figure size 360x360 with 1 Axes>"
      ]
     },
     "metadata": {},
     "output_type": "display_data"
    }
   ],
   "source": [
    "plt.figure(figsize=(5,5))\n",
    "fifa['Preferred Foot'].value_counts().plot(kind='pie', autopct='%.2f%%')\n",
    "plt.title('Jobb és ballábas focisták aránya')\n",
    "plt.show()"
   ]
  },
  {
   "cell_type": "code",
   "execution_count": 10,
   "metadata": {},
   "outputs": [
    {
     "name": "stdout",
     "output_type": "stream",
     "text": [
      "        Wage  Wageint    Value   Valueint\n",
      "0      €565K   565000  €110.5M  110500000\n",
      "1      €405K   405000     €77M   77000000\n",
      "2      €290K   290000  €118.5M  118500000\n",
      "3      €260K   260000     €72M   72000000\n",
      "4      €355K   355000    €102M  102000000\n",
      "...      ...      ...      ...        ...\n",
      "18202    €1K     1000     €60K      60000\n",
      "18203    €1K     1000     €60K      60000\n",
      "18204    €1K     1000     €60K      60000\n",
      "18205    €1K     1000     €60K      60000\n",
      "18206    €1K     1000     €60K      60000\n",
      "\n",
      "[18207 rows x 4 columns]\n"
     ]
    }
   ],
   "source": [
    "adatok=[]\n",
    "def atalakit(oszlop):\n",
    "    for x in oszlop:\n",
    "        if x[-1] == 'K':\n",
    "            adat=float(x.replace('K','').replace('€',''))\n",
    "            adat=adat*1000\n",
    "            adatok.append(int(adat))\n",
    "        elif x[-1] == 'M':\n",
    "            adat=float(x.replace('M','').replace('€',''))\n",
    "            adat=adat*1000000\n",
    "            adatok.append(int(adat))\n",
    "        else:\n",
    "            adatok.append(0)\n",
    "            \n",
    "            \n",
    "atalakit(fifa['Value'])\n",
    "fifa['Valueint']=adatok\n",
    "adatok=[]\n",
    "atalakit(fifa['Wage'])\n",
    "fifa['Wageint']=adatok\n",
    "\n",
    "print(fifa[['Wage','Wageint','Value','Valueint']])"
   ]
  },
  {
   "cell_type": "code",
   "execution_count": 11,
   "metadata": {},
   "outputs": [],
   "source": [
    "corr=pd.DataFrame(fifa.corrwith(fifa['Valueint']).sort_values(ascending=False))"
   ]
  },
  {
   "cell_type": "code",
   "execution_count": 12,
   "metadata": {},
   "outputs": [
    {
     "data": {
      "text/plain": [
       "Text(0.5, 1.0, 'A változók korrelációja a Valueint oszloppal')"
      ]
     },
     "execution_count": 12,
     "metadata": {},
     "output_type": "execute_result"
    },
    {
     "data": {
      "image/png": "[encoded data removed]",
      "text/plain": [
       "<Figure size 720x720 with 2 Axes>"
      ]
     },
     "metadata": {
      "needs_background": "light"
     },
     "output_type": "display_data"
    }
   ],
   "source": [
    "plt.figure(figsize=(10,10))\n",
    "sns.heatmap(corr)\n",
    "plt.title('A változók korrelációja a Valueint oszloppal')"
   ]
  },
  {
   "cell_type": "code",
   "execution_count": 13,
   "metadata": {},
   "outputs": [
    {
     "data": {
      "text/plain": [
       "array([[1.        , 0.85844172],\n",
       "       [0.85844172, 1.        ]])"
      ]
     },
     "execution_count": 13,
     "metadata": {},
     "output_type": "execute_result"
    }
   ],
   "source": [
    "np.corrcoef(fifa.Valueint, fifa.Wageint)"
   ]
  },
  {
   "cell_type": "code",
   "execution_count": 14,
   "metadata": {},
   "outputs": [
    {
     "data": {
      "image/png": "[encoded data removed]",
      "text/plain": [
       "<Figure size 720x576 with 2 Axes>"
      ]
     },
     "metadata": {
      "needs_background": "light"
     },
     "output_type": "display_data"
    }
   ],
   "source": [
    "plt.figure(figsize=(10,8))\n",
    "plt.title('Korrelációs hőtérkép',size=20)\n",
    "sns.heatmap(fifa.corr())\n",
    "plt.show()"
   ]
  },
  {
   "cell_type": "markdown",
   "metadata": {},
   "source": [
    "Az 5 legértékesebb klub"
   ]
  },
  {
   "cell_type": "code",
   "execution_count": 15,
   "metadata": {},
   "outputs": [
    {
     "data": {
      "text/plain": [
       "Club\n",
       "Real Madrid          874425000\n",
       "FC Barcelona         852600000\n",
       "Manchester City      786555000\n",
       "Juventus             704475000\n",
       "FC Bayern München    679025000\n",
       "Name: Valueint, dtype: int64"
      ]
     },
     "execution_count": 15,
     "metadata": {},
     "output_type": "execute_result"
    }
   ],
   "source": [
    "fifa.groupby('Club')['Valueint'].sum().sort_values(ascending=False)[:5]"
   ]
  },
  {
   "cell_type": "markdown",
   "metadata": {},
   "source": [
    "Az 5 legnagyobb összértékeléssel rendelkező csapat"
   ]
  },
  {
   "cell_type": "code",
   "execution_count": 16,
   "metadata": {},
   "outputs": [
    {
     "data": {
      "text/plain": [
       "Club\n",
       "Real Madrid          2582\n",
       "FC Barcelona         2575\n",
       "Manchester United    2549\n",
       "Chelsea              2534\n",
       "Manchester City      2532\n",
       "Name: Overall, dtype: int64"
      ]
     },
     "execution_count": 16,
     "metadata": {},
     "output_type": "execute_result"
    }
   ],
   "source": [
    "fifa.groupby('Club')['Overall'].sum().sort_values(ascending=False)[:5]"
   ]
  },
  {
   "cell_type": "markdown",
   "metadata": {},
   "source": [
    "4-3-3 felállás, kapus, LB, 2 CB, RB, 2CM CAM, LW, ST, RW\n",
    "Legjobb csapat Overall alapján"
   ]
  },
  {
   "cell_type": "code",
   "execution_count": 17,
   "metadata": {},
   "outputs": [],
   "source": [
    "csapat=[]\n",
    "def csapat_osszeallit(poszt, position1, position2, alapjan):\n",
    "    print('A legjobb 5 ', poszt , 'a(z)', alapjan , 'értékeik alapján :')\n",
    "    #ha csak a megadott poszt lehet\n",
    "    if (position1==position2):\n",
    "        print(fifa[fifa['Position']==position1][['Name',alapjan]].sort_values(by=alapjan,ascending=False)[:5])\n",
    "        print('*' * 30)\n",
    "        print('A csapatban a ', poszt, ':')\n",
    "        #2 középső védő kell\n",
    "        if (position1=='CB'):\n",
    "            overall=fifa[fifa['Position']==position1][['Name',alapjan]].nlargest(2, alapjan)\n",
    "            overall = overall['Name'].squeeze()\n",
    "            print(overall)\n",
    "            for x in overall:\n",
    "                csapat.append(x) \n",
    "        #amikből csak egy kell\n",
    "        else:\n",
    "            overall = fifa[fifa['Position']==position1].loc[fifa[fifa['Position']==position1][alapjan].idxmax()]\n",
    "           # overall=fifa[fifa['Position']==position1][['Name',alapjan]].nlargest(1, alapjan)\n",
    "            print(overall[['Name',alapjan]])\n",
    "            csapat.append(overall['Name'])\n",
    "            \n",
    "    #ha másik poszt is lehet pl. LF LW\n",
    "    else:                                              \n",
    "        print(fifa[(fifa['Position'] == position1) |  (fifa['Position'] == position2)]\n",
    "          [['Name',alapjan]].sort_values(by=alapjan,ascending=False)[:5])\n",
    "        print('*' * 30)\n",
    "        print('A csapatban a ', poszt, ':')\n",
    "        #2 középpályás kell\n",
    "        if ('CM' in (position1, position2)):\n",
    "            overall=fifa[(fifa['Position'] == position1) |  (fifa['Position'] == position2)][['Name',alapjan]].nlargest(2,alapjan)\n",
    "            overall = overall['Name'].squeeze()\n",
    "            for x in overall:\n",
    "                csapat.append(x)\n",
    "        #amikből csak egy kell\n",
    "        else:\n",
    "            overall=fifa[(fifa['Position'] == position1) |  (fifa['Position'] == position2)][['Name',alapjan]].nlargest(1,alapjan)\n",
    "            overall = overall['Name'].squeeze()\n",
    "            csapat.append(overall)\n",
    "        print(overall)\n",
    "    print('-' * 30)"
   ]
  },
  {
   "cell_type": "code",
   "execution_count": 18,
   "metadata": {},
   "outputs": [
    {
     "name": "stdout",
     "output_type": "stream",
     "text": [
      "A legjobb 5  kapus a(z) Overall értékeik alapján :\n",
      "             Name  Overall\n",
      "3          De Gea       91\n",
      "9        J. Oblak       90\n",
      "18  M. ter Stegen       89\n",
      "19    T. Courtois       89\n",
      "22       M. Neuer       89\n",
      "******************************\n",
      "A csapatban a  kapus :\n",
      "Name       De Gea\n",
      "Overall        91\n",
      "Name: 3, dtype: object\n",
      "------------------------------\n",
      "A legjobb 5  bal oldali védő a(z) Overall értékeik alapján :\n",
      "            Name  Overall\n",
      "35       Marcelo       88\n",
      "49    Jordi Alba       87\n",
      "64   Alex Sandro       86\n",
      "85      D. Alaba       85\n",
      "106  Filipe Luís       85\n",
      "******************************\n",
      "A csapatban a  bal oldali védő :\n",
      "Name       Marcelo\n",
      "Overall         88\n",
      "Name: 35, dtype: object\n",
      "------------------------------\n",
      "A legjobb 5  középső védő a(z) Overall értékeik alapján :\n",
      "            Name  Overall\n",
      "12      D. Godín       90\n",
      "42     S. Umtiti       87\n",
      "73    M. Benatia       86\n",
      "89   N. Otamendi       85\n",
      "102        Naldo       85\n",
      "******************************\n",
      "A csapatban a  középső védő :\n",
      "12     D. Godín\n",
      "42    S. Umtiti\n",
      "Name: Name, dtype: object\n",
      "------------------------------\n",
      "A legjobb 5  jobb oldali védő a(z) Overall értékeik alapján :\n",
      "              Name  Overall\n",
      "69     Azpilicueta       86\n",
      "135      K. Walker       84\n",
      "123       Carvajal       84\n",
      "192  Sergi Roberto       83\n",
      "216      L. Bender       83\n",
      "******************************\n",
      "A csapatban a  jobb oldali védő :\n",
      "Name       Azpilicueta\n",
      "Overall             86\n",
      "Name: 69, dtype: object\n",
      "------------------------------\n",
      "A legjobb 5  középpályás a(z) Overall értékeik alapján :\n",
      "               Name  Overall\n",
      "20  Sergio Busquets       89\n",
      "27         Casemiro       88\n",
      "67           Thiago       86\n",
      "72        M. Pjanić       86\n",
      "75      Fernandinho       86\n",
      "******************************\n",
      "A csapatban a  középpályás :\n",
      "20    Sergio Busquets\n",
      "27           Casemiro\n",
      "Name: Name, dtype: object\n",
      "------------------------------\n",
      "A legjobb 5  támadó középpályás a(z) Overall értékeik alapján :\n",
      "               Name  Overall\n",
      "17     A. Griezmann       89\n",
      "31       C. Eriksen       88\n",
      "61  Roberto Firmino       86\n",
      "66        T. Müller       86\n",
      "74          M. Özil       86\n",
      "******************************\n",
      "A csapatban a  támadó középpályás :\n",
      "A. Griezmann\n",
      "------------------------------\n",
      "A legjobb 5  bal szélső a(z) Overall értékeik alapján :\n",
      "          Name  Overall\n",
      "2    Neymar Jr       92\n",
      "5    E. Hazard       91\n",
      "15   P. Dybala       89\n",
      "29  L. Insigne       88\n",
      "30        Isco       88\n",
      "******************************\n",
      "A csapatban a  bal szélső :\n",
      "Neymar Jr\n",
      "------------------------------\n",
      "A legjobb 5  jobb szélső a(z) Overall értékeik alapján :\n",
      "              Name  Overall\n",
      "0         L. Messi       94\n",
      "50      D. Mertens       87\n",
      "56  Bernardo Silva       86\n",
      "60     R. Sterling       86\n",
      "79   Marco Asensio       85\n",
      "******************************\n",
      "A csapatban a  jobb szélső :\n",
      "L. Messi\n",
      "------------------------------\n",
      "A legjobb 5  csatár a(z) Overall értékeik alapján :\n",
      "                 Name  Overall\n",
      "1   Cristiano Ronaldo       94\n",
      "10     R. Lewandowski       90\n",
      "16            H. Kane       89\n",
      "23          S. Agüero       89\n",
      "36            G. Bale       88\n",
      "******************************\n",
      "A csapatban a  csatár :\n",
      "Name       Cristiano Ronaldo\n",
      "Overall                   94\n",
      "Name: 1, dtype: object\n",
      "------------------------------\n",
      "A csapat tagjai:\n",
      "['De Gea', 'Marcelo', 'D. Godín', 'S. Umtiti', 'Azpilicueta', 'Sergio Busquets', 'Casemiro', 'A. Griezmann', 'Neymar Jr', 'L. Messi', 'Cristiano Ronaldo']\n"
     ]
    }
   ],
   "source": [
    "\n",
    "csapat_osszeallit('kapus','GK','GK','Overall')\n",
    "csapat_osszeallit('bal oldali védő','LB','LB','Overall')\n",
    "csapat_osszeallit('középső védő','CB','CB','Overall')\n",
    "csapat_osszeallit('jobb oldali védő','RB','RB','Overall')\n",
    "csapat_osszeallit('középpályás','CM','CDM','Overall')\n",
    "csapat_osszeallit('támadó középpályás','CAM','CF','Overall')\n",
    "csapat_osszeallit('bal szélső','LW','LF','Overall')\n",
    "csapat_osszeallit('jobb szélső','RW','RF','Overall')\n",
    "csapat_osszeallit('csatár','ST','ST','Overall')\n",
    "print('A csapat tagjai:')\n",
    "print(csapat)"
   ]
  },
  {
   "cell_type": "markdown",
   "metadata": {},
   "source": [
    "Legjobb csapat a Value alapján"
   ]
  },
  {
   "cell_type": "code",
   "execution_count": 19,
   "metadata": {},
   "outputs": [
    {
     "name": "stdout",
     "output_type": "stream",
     "text": [
      "A legjobb 5  kapus a(z) Valueint értékeik alapján :\n",
      "             Name  Valueint\n",
      "3          De Gea  72000000\n",
      "9        J. Oblak  68000000\n",
      "18  M. ter Stegen  58000000\n",
      "19    T. Courtois  53500000\n",
      "57        Ederson  41500000\n",
      "******************************\n",
      "A csapatban a  kapus :\n",
      "Name          De Gea\n",
      "Valueint    72000000\n",
      "Name: 3, dtype: object\n",
      "------------------------------\n",
      "A legjobb 5  bal oldali védő a(z) Valueint értékeik alapján :\n",
      "            Name  Valueint\n",
      "35       Marcelo  43000000\n",
      "85      D. Alaba  38000000\n",
      "49    Jordi Alba  38000000\n",
      "64   Alex Sandro  36500000\n",
      "112  Alex Telles  32000000\n",
      "******************************\n",
      "A csapatban a  bal oldali védő :\n",
      "Name         Marcelo\n",
      "Valueint    43000000\n",
      "Name: 35, dtype: object\n",
      "------------------------------\n",
      "A legjobb 5  középső védő a(z) Valueint értékeik alapján :\n",
      "           Name  Valueint\n",
      "42    S. Umtiti  57000000\n",
      "12     D. Godín  44000000\n",
      "115     N. Süle  36500000\n",
      "127  S. de Vrij  31500000\n",
      "73   M. Benatia  30000000\n",
      "******************************\n",
      "A csapatban a  középső védő :\n",
      "42    S. Umtiti\n",
      "12     D. Godín\n",
      "Name: Name, dtype: object\n",
      "------------------------------\n",
      "A legjobb 5  jobb oldali védő a(z) Valueint értékeik alapján :\n",
      "              Name  Valueint\n",
      "69     Azpilicueta  35000000\n",
      "123       Carvajal  31500000\n",
      "192  Sergi Roberto  26500000\n",
      "247   João Cancelo  25500000\n",
      "135      K. Walker  24500000\n",
      "******************************\n",
      "A csapatban a  jobb oldali védő :\n",
      "Name        Azpilicueta\n",
      "Valueint       35000000\n",
      "Name: 69, dtype: object\n",
      "------------------------------\n",
      "A legjobb 5  középpályás a(z) Valueint értékeik alapján :\n",
      "                   Name  Valueint\n",
      "27             Casemiro  59500000\n",
      "20      Sergio Busquets  51500000\n",
      "78  S. Milinković-Savić  50500000\n",
      "67               Thiago  45500000\n",
      "72            M. Pjanić  44000000\n",
      "******************************\n",
      "A csapatban a  középpályás :\n",
      "27           Casemiro\n",
      "20    Sergio Busquets\n",
      "Name: Name, dtype: object\n",
      "------------------------------\n",
      "A legjobb 5  támadó középpályás a(z) Valueint értékeik alapján :\n",
      "               Name  Valueint\n",
      "17     A. Griezmann  78000000\n",
      "31       C. Eriksen  73500000\n",
      "61  Roberto Firmino  53000000\n",
      "80         N. Fekir  50000000\n",
      "66        T. Müller  45000000\n",
      "******************************\n",
      "A csapatban a  támadó középpályás :\n",
      "A. Griezmann\n",
      "------------------------------\n",
      "A legjobb 5  bal szélső a(z) Valueint értékeik alapján :\n",
      "         Name   Valueint\n",
      "2   Neymar Jr  118500000\n",
      "5   E. Hazard   93000000\n",
      "15  P. Dybala   89000000\n",
      "30       Isco   73500000\n",
      "32   Coutinho   69500000\n",
      "******************************\n",
      "A csapatban a  bal szélső :\n",
      "Neymar Jr\n",
      "------------------------------\n",
      "A legjobb 5  jobb szélső a(z) Valueint értékeik alapján :\n",
      "              Name   Valueint\n",
      "0         L. Messi  110500000\n",
      "56  Bernardo Silva   59500000\n",
      "60     R. Sterling   56500000\n",
      "79   Marco Asensio   54000000\n",
      "50      D. Mertens   45000000\n",
      "******************************\n",
      "A csapatban a  jobb szélső :\n",
      "L. Messi\n",
      "------------------------------\n",
      "A legjobb 5  csatár a(z) Valueint értékeik alapján :\n",
      "                 Name  Valueint\n",
      "16            H. Kane  83500000\n",
      "1   Cristiano Ronaldo  77000000\n",
      "10     R. Lewandowski  77000000\n",
      "23          S. Agüero  64500000\n",
      "43          M. Icardi  64500000\n",
      "******************************\n",
      "A csapatban a  csatár :\n",
      "Name         H. Kane\n",
      "Valueint    83500000\n",
      "Name: 16, dtype: object\n",
      "------------------------------\n",
      "A csapat tagjai:\n",
      "['De Gea', 'Marcelo', 'S. Umtiti', 'D. Godín', 'Azpilicueta', 'Casemiro', 'Sergio Busquets', 'A. Griezmann', 'Neymar Jr', 'L. Messi', 'H. Kane']\n"
     ]
    }
   ],
   "source": [
    "csapat=[]\n",
    "csapat_osszeallit('kapus','GK','GK','Valueint')\n",
    "csapat_osszeallit('bal oldali védő','LB','LB','Valueint')\n",
    "csapat_osszeallit('középső védő','CB','CB','Valueint')\n",
    "csapat_osszeallit('jobb oldali védő','RB','RB','Valueint')\n",
    "csapat_osszeallit('középpályás','CM','CDM','Valueint')\n",
    "csapat_osszeallit('támadó középpályás','CAM','CF','Valueint')\n",
    "csapat_osszeallit('bal szélső','LW','LF','Valueint')\n",
    "csapat_osszeallit('jobb szélső','RW','RF','Valueint')\n",
    "csapat_osszeallit('csatár','ST','ST','Valueint')\n",
    "print('A csapat tagjai:')\n",
    "print(csapat)"
   ]
  },
  {
   "cell_type": "markdown",
   "metadata": {},
   "source": [
    "Juventus bajnokok ligája csoportkör a 2018/2019-es szezonban:"
   ]
  },
  {
   "cell_type": "markdown",
   "metadata": {},
   "source": [
    "<img src=\"Bl_csoport.png\">"
   ]
  },
  {
   "cell_type": "markdown",
   "metadata": {},
   "source": [
    "FIFA19 játékban lefolytattunk néhány szimulált szezont, itt láthatjuk a Juventus csoportkörökben elért eredményét:"
   ]
  },
  {
   "cell_type": "markdown",
   "metadata": {},
   "source": [
    "<img src=\"1Bl_csoport.png\">\n",
    "<img src=\"2Bl_csoport.png\">\n",
    "<img src=\"3Bl_csoport.png\">\n",
    "<img src=\"4Bl_csoport.png\">\n",
    "<img src=\"5Bl_csoport.png\">"
   ]
  },
  {
   "cell_type": "markdown",
   "metadata": {},
   "source": [
    "Javarészt a játékban szimulált csoportkörös meccsek hasonlóan alakultak, mint a való életben, azonban az 5 szimuláció során egyszer előfordult a Juventus kiesése a bajnokok ligájában, már a csoportkörnél. De ezt leszámítva mondhatjuk, hogy a játék nagyjából jól tükrözte a valóságot. Amit még érdemes megfigyelni, hogy a FIFA19-ben mekkora az eltérés ez a 4 csapat között, és hogy az eltérésekhez képest reálisak-e a szimulált csoportkörök."
   ]
  },
  {
   "cell_type": "code",
   "execution_count": 20,
   "metadata": {},
   "outputs": [],
   "source": [
    "def csapatinfo(csapat):\n",
    "    g = fifa.groupby('Club')['Valueint'].sum()\n",
    "    jatekos = fifa.groupby('Club')['Overall'].count()\n",
    "    g2 = round(fifa.groupby('Club')['Overall'].mean(), 2)    \n",
    "    atlagKor = round(fifa.groupby('Club')['Age'].mean(), 2)\n",
    "    print('A(z) ', csapat, ' játékosainak összértéke: ', g[csapat], \n",
    "          '\\n A csapat átlagos értékelése: ', g2[csapat], \n",
    "          '\\n A csapatban ', jatekos[csapat], ' játékos játszik.',\n",
    "          '\\n A csapat átlagos életkora: ', atlagKor[csapat], \n",
    "          '\\n ____________________________________________________________')\n"
   ]
  },
  {
   "cell_type": "code",
   "execution_count": 21,
   "metadata": {},
   "outputs": [
    {
     "name": "stdout",
     "output_type": "stream",
     "text": [
      "A(z)  Juventus  játékosainak összértéke:  704475000 \n",
      " A csapat átlagos értékelése:  82.28 \n",
      " A csapatban  25  játékos játszik. \n",
      " A csapat átlagos életkora:  27.16 \n",
      " ____________________________________________________________\n",
      "A(z)  Manchester United  játékosainak összértéke:  588850000 \n",
      " A csapat átlagos értékelése:  77.24 \n",
      " A csapatban  33  játékos játszik. \n",
      " A csapat átlagos életkora:  24.76 \n",
      " ____________________________________________________________\n",
      "A(z)  Valencia CF  játékosainak összértéke:  394225000 \n",
      " A csapat átlagos értékelése:  74.7 \n",
      " A csapatban  33  játékos játszik. \n",
      " A csapat átlagos életkora:  23.06 \n",
      " ____________________________________________________________\n",
      "A(z)  BSC Young Boys  játékosainak összértéke:  51300000 \n",
      " A csapat átlagos értékelése:  66.71 \n",
      " A csapatban  24  játékos játszik. \n",
      " A csapat átlagos életkora:  24.08 \n",
      " ____________________________________________________________\n"
     ]
    }
   ],
   "source": [
    "csapatinfo('Juventus')\n",
    "csapatinfo('Manchester United')\n",
    "csapatinfo('Valencia CF')\n",
    "csapatinfo('BSC Young Boys')"
   ]
  },
  {
   "cell_type": "code",
   "execution_count": 22,
   "metadata": {},
   "outputs": [
    {
     "data": {
      "image/png": "[encoded data removed]",
      "text/plain": [
       "<Figure size 1584x1080 with 2 Axes>"
      ]
     },
     "metadata": {
      "needs_background": "light"
     },
     "output_type": "display_data"
    }
   ],
   "source": [
    "csapatok = ('Juventus', 'Manchester United', 'Valencia CF', 'BSC Young Boys')\n",
    "hasonlitas = fifa[fifa['Club'].isin(csapatok)]\n",
    "\n",
    "plt.figure(figsize=(22,15))\n",
    "\n",
    "has1=hasonlitas.groupby('Club')['Valueint'].sum().sort_values(ascending=False)\n",
    "has2=hasonlitas.groupby('Club')['Overall'].mean().sort_values(ascending=False)\n",
    "\n",
    "plt.subplot(221)\n",
    "plt.barh(has1.index, has1.values, color=['black', 'red', 'orange', 'yellow'])\n",
    "plt.title('A csapatok összehasonlítása az összértékük szerint', size=15)\n",
    "plt.xlabel('Összes érték (100M €)')\n",
    "\n",
    "\n",
    "plt.subplot(222)\n",
    "plt.barh(has2.index, has2.values, color=['black', 'red', 'orange', 'yellow'])\n",
    "plt.title('A csapatok összehasonlítása az overall átlaguk szerint', size=15)\n",
    "plt.xlabel('Játékosok overall átlaga')\n",
    "plt.show()\n"
   ]
  },
  {
   "cell_type": "markdown",
   "metadata": {},
   "source": [
    "Az előbbi elemzésből arra következtethetünk, hogy a Juventusnak jóval több sztárjátékosa van, hiszen sokkal kevesebben fociznak abban a csapatban, mint mondjuk a Manchester United-ben, mégis sokkal nagyobb az összértékük. Az átlagos értékelése is jelentősen magasabb az olasz csapatnak, ez viszont adódhat abból is, hogy több ifijátékos van a United keretében. Ezt az átlagéletkorból is láthatjuk."
   ]
  },
  {
   "cell_type": "markdown",
   "metadata": {},
   "source": [
    "Mindent összevetve jól látható, hogy nem hiába nyerte meg a Juventus 5 szimulációból 4-szer is a csoportkört, hiszen egy tapasztaltabb, sztárjátékosokkal tűzdelt csapatuk van, míg a többi csapat gyengébb játékosokból áll, azonban fiatal tehetségekből, akik hajlamosak lehetnek meglepetést okozni. De azt azért meg kell jegyezni, hogy hiába sokkal értékesebb, és tapasztaltabb a Juventus a csoportkörös ellenfeleinél a FIFA19-ben, mégis a megszerezhető 18 pontból maximum 13-at sikerült megszerezniük, valamint egyszer mégiscsak harmadik helyen végeztek, szóval nem biztos, hogy reálisan működik a szimuláció. Ezt fogjuk a továbbiakban is vizsgálni."
   ]
  },
  {
   "cell_type": "markdown",
   "metadata": {},
   "source": [
    "A valós életben a BL döntő alakulása a 2018/2019-es szezonban:\n",
    "<img src=\"Bl_valos_donto.png\">"
   ]
  },
  {
   "cell_type": "markdown",
   "metadata": {},
   "source": [
    "A FIFA19-ben lefolytatott szimulációk BL döntőinek eredményei:\n",
    "<img src=\"1Bl_donto.png\">\n",
    "<img src=\"2Bl_donto.png\">\n",
    "<img src=\"3Bl_donto.png\">\n",
    "<img src=\"4Bl_donto.png\">\n",
    "<img src=\"5Bl_donto.png\">"
   ]
  },
  {
   "cell_type": "markdown",
   "metadata": {},
   "source": [
    "5 alkalomból 3-szor jutott döntőbe, 2-szer meg is nyerte a Liverpool, amely a valóságban is magasba emelhette a kupát. Ilyen szempontból tehát megint eléggé hasonlított a szimuláció a valósághoz. Azonban a valóságban döntőig menetelő Spurs a közelébe sem jutott a döntőnek a játékban. Ami szintén egy érdekes dolog, hogy a Juventus szintén 5-ből 3-szor eljutott a döntőbe, 2-szer meg is nyerte azt, pedig a valósgban már a negyeddöntőben kiesett."
   ]
  },
  {
   "cell_type": "code",
   "execution_count": 23,
   "metadata": {},
   "outputs": [
    {
     "data": {
      "text/plain": [
       "Club\n",
       "Real Madrid            874425000\n",
       "FC Barcelona           852600000\n",
       "Manchester City        786555000\n",
       "Juventus               704475000\n",
       "FC Bayern München      679025000\n",
       "Atlético Madrid        644525000\n",
       "Paris Saint-Germain    625325000\n",
       "Tottenham Hotspur      618450000\n",
       "Chelsea                606815000\n",
       "Manchester United      588850000\n",
       "Name: Valueint, dtype: int64"
      ]
     },
     "execution_count": 23,
     "metadata": {},
     "output_type": "execute_result"
    }
   ],
   "source": [
    "fifa.groupby('Club')['Valueint'].sum().sort_values(ascending=False)[:10]"
   ]
  },
  {
   "cell_type": "markdown",
   "metadata": {},
   "source": [
    "Érdekes megfigyelni a szimulációk során remeklő két csapatot. A Juventus ugyan a 4. legértékesebb csapat, de a Liverpool még a top10-ben sincsen. Rajtuk kívül az Atlético Madrid tudott diadalmaskodni, akkor a Manchester United-et győzte le, akik szintén benne vannak a top10 legértékesebb klub listájában. Ezen felül még az FC Porto és az Olympic Lyon tudott döntőbe jutni, akiknek az értéke meg sem közelíti a top csapatokét. Ellenben a top10 legértékesebb csapat közül 7 még csak a döntőbe sem tudott jutni. Ez megintcsak arra enged következtetni, hogy elég nagy a véletlen faktor a FIFA19-es szimulációk során."
   ]
  },
  {
   "cell_type": "markdown",
   "metadata": {},
   "source": [
    "Olasz bajnokság 2018/2019-es szezon végeredménye a valóságban:\n",
    "<img src=\"Olasz_valos_lista.png\">"
   ]
  },
  {
   "cell_type": "markdown",
   "metadata": {},
   "source": [
    "Nézzük meg, hogy ennek a négy csapatnak milyen erős kerete van a FIFA19-ben."
   ]
  },
  {
   "cell_type": "code",
   "execution_count": 24,
   "metadata": {},
   "outputs": [
    {
     "name": "stdout",
     "output_type": "stream",
     "text": [
      "A(z)  Juventus  játékosainak összértéke:  704475000 \n",
      " A csapat átlagos értékelése:  82.28 \n",
      " A csapatban  25  játékos játszik. \n",
      " A csapat átlagos életkora:  27.16 \n",
      " ____________________________________________________________\n",
      "A(z)  Napoli  játékosainak összértéke:  514000000 \n",
      " A csapat átlagos értékelése:  80.0 \n",
      " A csapatban  25  játékos játszik. \n",
      " A csapat átlagos életkora:  25.92 \n",
      " ____________________________________________________________\n",
      "A(z)  Atalanta  játékosainak összértéke:  161405000 \n",
      " A csapat átlagos értékelése:  72.58 \n",
      " A csapatban  24  játékos játszik. \n",
      " A csapat átlagos életkora:  24.54 \n",
      " ____________________________________________________________\n",
      "A(z)  Inter  játékosainak összértéke:  466485000 \n",
      " A csapat átlagos értékelése:  79.75 \n",
      " A csapatban  24  játékos játszik. \n",
      " A csapat átlagos életkora:  27.46 \n",
      " ____________________________________________________________\n"
     ]
    }
   ],
   "source": [
    "csapatinfo('Juventus')\n",
    "csapatinfo('Napoli')\n",
    "csapatinfo('Atalanta')\n",
    "csapatinfo('Inter')"
   ]
  },
  {
   "cell_type": "code",
   "execution_count": 25,
   "metadata": {},
   "outputs": [
    {
     "data": {
      "image/png": "[encoded data removed]",
      "text/plain": [
       "<Figure size 1584x1080 with 2 Axes>"
      ]
     },
     "metadata": {
      "needs_background": "light"
     },
     "output_type": "display_data"
    }
   ],
   "source": [
    "csapatok = ('Juventus', 'Napoli', 'Atalanta', 'Inter')\n",
    "hasonlitas = fifa[fifa['Club'].isin(csapatok)]\n",
    "\n",
    "plt.figure(figsize=(22,15))\n",
    "\n",
    "has1=hasonlitas.groupby('Club')['Valueint'].sum().sort_values(ascending=False)\n",
    "has2=hasonlitas.groupby('Club')['Overall'].mean().sort_values(ascending=False)\n",
    "\n",
    "plt.subplot(221)\n",
    "plt.barh(has1.index, has1.values, color=['black', 'cornflowerblue', 'navy', 'blue'])\n",
    "plt.title('A csapatok összehasonlítása az összértékük szerint', size=15)\n",
    "plt.xlabel('Összes érték (100M €)')\n",
    "\n",
    "\n",
    "plt.subplot(222)\n",
    "plt.barh(has2.index, has2.values, color=['black', 'cornflowerblue', 'navy', 'blue'])\n",
    "plt.title('A csapatok összehasonlítása az overall átlaguk szerint', size=15)\n",
    "plt.xlabel('Játékosok overall átlaga')\n",
    "plt.show()"
   ]
  },
  {
   "cell_type": "markdown",
   "metadata": {},
   "source": [
    "Ezek alapján arra lehet következtetni, hogy ha a FIFA19-ben szimulálnánk néhány szezont, akkor hasonló eredményeket kaphatnánk, hiszen a Juventus magasan a legerősebb csapat több szempontból is. Egyedül az Atalanta a kakukktojás, valószínűleg a top4 közelébe sem kerülnének, hiszen egy nagyon fiatal csapatról van szó, akiknél nincs sok kiemelkedő játékos. Ez a valóságban is igaz volt, ellenben ott sokszor megmutatkozik az, hogy egy kis csapat is tud sikereket elérni. De nézzük meg, hogy milyen eredményeket kapunk, ha a FIFA19-ben leszimuláljuk párszor a 2018/2019-es szezont:"
   ]
  },
  {
   "cell_type": "markdown",
   "metadata": {},
   "source": [
    "<img src=\"1Olasz_lista.png\">\n",
    "<img src=\"2Olasz_lista.png\">\n",
    "<img src=\"3Olasz_lista.png\">"
   ]
  },
  {
   "cell_type": "markdown",
   "metadata": {},
   "source": [
    "Meglehetősen érdekes eredmények születtek, az első szimulációnál 3 csapat is a top4-ben végzett azok közül, akik a valóságban is bl szereplést értek el, igaz kicsit másabb sorrendet figyelhetünk meg. A következő két szimulációnál viszont teljesen máshogy alakultak a dolgok. Az elért pontszámok is egészen közel járnak a valóshoz mind a 3 FIFA szezon után.\n",
    "Vizsgáljuk meg jobban a FIFA-ban top4-ben végzett csapatokat."
   ]
  },
  {
   "cell_type": "code",
   "execution_count": 26,
   "metadata": {},
   "outputs": [
    {
     "name": "stdout",
     "output_type": "stream",
     "text": [
      "A(z)  Juventus  játékosainak összértéke:  704475000 \n",
      " A csapat átlagos értékelése:  82.28 \n",
      " A csapatban  25  játékos játszik. \n",
      " A csapat átlagos életkora:  27.16 \n",
      " ____________________________________________________________\n",
      "A(z)  Inter  játékosainak összértéke:  466485000 \n",
      " A csapat átlagos értékelése:  79.75 \n",
      " A csapatban  24  játékos játszik. \n",
      " A csapat átlagos életkora:  27.46 \n",
      " ____________________________________________________________\n",
      "A(z)  Milan  játékosainak összértéke:  416999999 \n",
      " A csapat átlagos értékelése:  78.07 \n",
      " A csapatban  27  játékos játszik. \n",
      " A csapat átlagos életkora:  25.0 \n",
      " ____________________________________________________________\n",
      "A(z)  Napoli  játékosainak összértéke:  514000000 \n",
      " A csapat átlagos értékelése:  80.0 \n",
      " A csapatban  25  játékos játszik. \n",
      " A csapat átlagos életkora:  25.92 \n",
      " ____________________________________________________________\n",
      "A(z)  Lazio  játékosainak összértéke:  352135000 \n",
      " A csapat átlagos értékelése:  75.44 \n",
      " A csapatban  32  játékos játszik. \n",
      " A csapat átlagos életkora:  25.31 \n",
      " ____________________________________________________________\n",
      "A(z)  Torino  játékosainak összértéke:  191035000 \n",
      " A csapat átlagos értékelése:  73.31 \n",
      " A csapatban  26  játékos játszik. \n",
      " A csapat átlagos életkora:  25.35 \n",
      " ____________________________________________________________\n"
     ]
    }
   ],
   "source": [
    "csapatinfo('Juventus')\n",
    "csapatinfo('Inter')\n",
    "csapatinfo('Milan')\n",
    "csapatinfo('Napoli')\n",
    "csapatinfo('Lazio')\n",
    "csapatinfo('Torino')"
   ]
  },
  {
   "cell_type": "code",
   "execution_count": 27,
   "metadata": {},
   "outputs": [
    {
     "data": {
      "image/png": "[encoded data removed]",
      "text/plain": [
       "<Figure size 1584x1080 with 2 Axes>"
      ]
     },
     "metadata": {
      "needs_background": "light"
     },
     "output_type": "display_data"
    }
   ],
   "source": [
    "csapatok = ('Juventus', 'Inter', 'Milan', 'Napoli', 'Lazio', 'Torino')\n",
    "hasonlitas = fifa[fifa['Club'].isin(csapatok)]\n",
    "plt.figure(figsize=(22,15))\n",
    "\n",
    "has1=hasonlitas.groupby('Club')['Valueint'].sum().sort_values(ascending=False)\n",
    "has2=hasonlitas.groupby('Club')['Overall'].mean().sort_values(ascending=False)\n",
    "\n",
    "plt.subplot(221)\n",
    "plt.barh(has1.index, has1.values, color=['black', 'cornflowerblue', 'navy', 'red', 'lightsteelblue', 'brown'])\n",
    "plt.title('A csapatok összehasonlítása az összértékük szerint', size=15)\n",
    "plt.xlabel('Összes érték (100M €)')\n",
    "\n",
    "\n",
    "plt.subplot(222)\n",
    "plt.barh(has2.index, has2.values, color=['black', 'cornflowerblue', 'navy', 'red', 'lightsteelblue', 'brown'])\n",
    "plt.title('A csapatok összehasonlítása az overall átlaguk szerint', size=15)\n",
    "plt.xlabel('Játékosok overall átlaga')\n",
    "plt.show()"
   ]
  },
  {
   "cell_type": "markdown",
   "metadata": {},
   "source": [
    "Egyedül az első szimulációt mondhatjuk reálisnak a csapatok erőssége alapján. Az is érdekes, hogy 2-szer is az Inter nyert, míg nagyjából másfélszer annyit ér a Juventus csapata, és jóval jobb értékeléssel rendelkező játékosaik vannak. Azonban ami még érdekesebb, hogy a Torino két szezonban is a negyedik tudott lenni, sok olyan csapatok maga mögé utasítva, akiknek sokkal mélyebb, erősebb keretük van."
   ]
  },
  {
   "cell_type": "markdown",
   "metadata": {},
   "source": [
    "Ez pedig egy külön érdekesség, hogy a valóságban kiválóan szereplő Atalanta milyen teljesítményt nyújtott az egyik szimulált szezon során:\n",
    "<img src=\"1Olasz_kiesok.png\">"
   ]
  },
  {
   "cell_type": "markdown",
   "metadata": {},
   "source": [
    "Nézzük meg, hogy milyen erősségű csapatokkal teljesített hasonló szinten az egyébként 3. helyezett meglepetéscsapat:"
   ]
  },
  {
   "cell_type": "code",
   "execution_count": 28,
   "metadata": {},
   "outputs": [
    {
     "name": "stdout",
     "output_type": "stream",
     "text": [
      "A(z)  Atalanta  játékosainak összértéke:  161405000 \n",
      " A csapat átlagos értékelése:  72.58 \n",
      " A csapatban  24  játékos játszik. \n",
      " A csapat átlagos életkora:  24.54 \n",
      " ____________________________________________________________\n",
      "A(z)  Parma  játékosainak összértéke:  82945000 \n",
      " A csapat átlagos értékelése:  70.1 \n",
      " A csapatban  29  játékos játszik. \n",
      " A csapat átlagos életkora:  27.69 \n",
      " ____________________________________________________________\n",
      "A(z)  Genoa  játékosainak összértéke:  108640000 \n",
      " A csapat átlagos értékelése:  72.15 \n",
      " A csapatban  27  játékos játszik. \n",
      " A csapat átlagos életkora:  25.78 \n",
      " ____________________________________________________________\n"
     ]
    }
   ],
   "source": [
    "csapatinfo('Atalanta')\n",
    "csapatinfo('Parma')\n",
    "csapatinfo('Genoa')"
   ]
  },
  {
   "cell_type": "code",
   "execution_count": 29,
   "metadata": {},
   "outputs": [
    {
     "data": {
      "image/png": "[encoded data removed]",
      "text/plain": [
       "<Figure size 1584x1080 with 2 Axes>"
      ]
     },
     "metadata": {
      "needs_background": "light"
     },
     "output_type": "display_data"
    }
   ],
   "source": [
    "csapatok = ('Atalanta', 'Parma', 'Genoa')\n",
    "hasonlitas = fifa[fifa['Club'].isin(csapatok)]\n",
    "plt.figure(figsize=(22,15))\n",
    "\n",
    "has1=hasonlitas.groupby('Club')['Valueint'].sum().sort_values(ascending=False)\n",
    "has2=hasonlitas.groupby('Club')['Overall'].mean().sort_values(ascending=False)\n",
    "\n",
    "plt.subplot(221)\n",
    "plt.barh(has1.index, has1.values, color=['blue', 'firebrick', 'yellow'])\n",
    "plt.title('A csapatok összehasonlítása az összértékük szerint', size=15)\n",
    "plt.xlabel('Összes érték (100M €)')\n",
    "\n",
    "\n",
    "plt.subplot(222)\n",
    "plt.barh(has2.index, has2.values, color=['blue', 'firebrick', 'yellow'])\n",
    "plt.title('A csapatok összehasonlítása az overall átlaguk szerint', size=15)\n",
    "plt.xlabel('Játékosok overall átlaga')\n",
    "plt.show()"
   ]
  },
  {
   "cell_type": "markdown",
   "metadata": {},
   "source": [
    "Ez valószínűleg valami ritka véletlen lehetett, mert a többi szimuláció sorána  középmezőnyben végeztek, azonban ez is jól mutatja, hogy nem biztos, hogy olyan jól tükrözi a valós erőviszonyokat a játék."
   ]
  },
  {
   "cell_type": "markdown",
   "metadata": {},
   "source": [
    "És végül hasonlítsuk össze a 2018/2019-es szezon bl góllövőlistáját a játékban szimulált szezonokéval:\n",
    "<img src=\"BL_valos_golok.png\">"
   ]
  },
  {
   "cell_type": "markdown",
   "metadata": {},
   "source": [
    "Nézzünk néhány adatot a FIFA19-ben ezekről a játékosokról:"
   ]
  },
  {
   "cell_type": "code",
   "execution_count": 30,
   "metadata": {},
   "outputs": [
    {
     "data": {
      "text/html": [
       "<div>\n",
       "<style scoped>\n",
       "    .dataframe tbody tr th:only-of-type {\n",
       "        vertical-align: middle;\n",
       "    }\n",
       "\n",
       "    .dataframe tbody tr th {\n",
       "        vertical-align: top;\n",
       "    }\n",
       "\n",
       "    .dataframe thead th {\n",
       "        text-align: right;\n",
       "    }\n",
       "</style>\n",
       "<table border=\"1\" class=\"dataframe\">\n",
       "  <thead>\n",
       "    <tr style=\"text-align: right;\">\n",
       "      <th></th>\n",
       "      <th>Name</th>\n",
       "      <th>Age</th>\n",
       "      <th>Club</th>\n",
       "      <th>Overall</th>\n",
       "      <th>Potential</th>\n",
       "      <th>Value</th>\n",
       "      <th>Wage</th>\n",
       "      <th>Position</th>\n",
       "      <th>Finishing</th>\n",
       "      <th>ShotPower</th>\n",
       "      <th>LongShots</th>\n",
       "    </tr>\n",
       "  </thead>\n",
       "  <tbody>\n",
       "    <tr>\n",
       "      <th>0</th>\n",
       "      <td>L. Messi</td>\n",
       "      <td>31</td>\n",
       "      <td>FC Barcelona</td>\n",
       "      <td>94</td>\n",
       "      <td>94</td>\n",
       "      <td>€110.5M</td>\n",
       "      <td>€565K</td>\n",
       "      <td>RF</td>\n",
       "      <td>95.0</td>\n",
       "      <td>85.0</td>\n",
       "      <td>94.0</td>\n",
       "    </tr>\n",
       "    <tr>\n",
       "      <th>10</th>\n",
       "      <td>R. Lewandowski</td>\n",
       "      <td>29</td>\n",
       "      <td>FC Bayern München</td>\n",
       "      <td>90</td>\n",
       "      <td>90</td>\n",
       "      <td>€77M</td>\n",
       "      <td>€205K</td>\n",
       "      <td>ST</td>\n",
       "      <td>91.0</td>\n",
       "      <td>88.0</td>\n",
       "      <td>84.0</td>\n",
       "    </tr>\n",
       "    <tr>\n",
       "      <th>365</th>\n",
       "      <td>D. Tadić</td>\n",
       "      <td>29</td>\n",
       "      <td>Ajax</td>\n",
       "      <td>81</td>\n",
       "      <td>81</td>\n",
       "      <td>€17.5M</td>\n",
       "      <td>€26K</td>\n",
       "      <td>LAM</td>\n",
       "      <td>74.0</td>\n",
       "      <td>69.0</td>\n",
       "      <td>65.0</td>\n",
       "    </tr>\n",
       "  </tbody>\n",
       "</table>\n",
       "</div>"
      ],
      "text/plain": [
       "               Name  Age               Club  Overall  Potential    Value  \\\n",
       "0          L. Messi   31       FC Barcelona       94         94  €110.5M   \n",
       "10   R. Lewandowski   29  FC Bayern München       90         90     €77M   \n",
       "365        D. Tadić   29               Ajax       81         81   €17.5M   \n",
       "\n",
       "      Wage Position  Finishing  ShotPower  LongShots  \n",
       "0    €565K       RF       95.0       85.0       94.0  \n",
       "10   €205K       ST       91.0       88.0       84.0  \n",
       "365   €26K      LAM       74.0       69.0       65.0  "
      ]
     },
     "execution_count": 30,
     "metadata": {},
     "output_type": "execute_result"
    }
   ],
   "source": [
    "gollovok = ('L. Messi', 'R. Lewandowski', 'D. Tadić')\n",
    "top3 = fifa[fifa['Name'].isin(gollovok)].head(3)\n",
    "top3[['Name', 'Age', 'Club', 'Overall', 'Potential', 'Value', 'Wage', 'Position', 'Finishing', 'ShotPower', 'LongShots']]"
   ]
  },
  {
   "cell_type": "markdown",
   "metadata": {},
   "source": [
    "Messi és Lewandowski is kiemelkedő adatokkal rendelkezik a játékban is, könnyen elképzelhető, hogy jól teljesítenek egy-egy szimuláció után. Azonban Tadic-nak nem sok esélye van, hiszen a gólokhoz szükséges adatai nem elég jók."
   ]
  },
  {
   "cell_type": "markdown",
   "metadata": {},
   "source": [
    "Az egy játékos által lőtt gólok tekintetében nem volt kiemelkedő a szezon, hiszen 6 góllal már dobogós lehetett Tadic, amelyre legutóbb a 2007/2008-as szezonban volt példa, de nézzük meg, hogy a játékban milyen eredmények születtek:\n",
    "<img src=\"1BL_golok.png\">\n",
    "<img src=\"2BL_golok.png\">\n",
    "<img src=\"3BL_golok.png\">\n",
    "<img src=\"4BL_golok.png\">\n",
    "<img src=\"5BL_golok.png\">"
   ]
  },
  {
   "cell_type": "markdown",
   "metadata": {},
   "source": [
    "Egészen meglepő, hogy a valóságban győztes Messi az 5 szimuláció egyikén sem tudott még csak dobogós helyet sem elérni. De a második helyezett Lewandowski neve is csak egyszer került fel a dobogó második fokára... Leggyakrabban Liverpool és Juventus játékosok vannak a legjobb 3 között, de ez abból adódhat, hogy ez a két csapat jutott legtöbbször a döntőbe, így több meccsen volt esélyük gólt szerezni. Nézzük meg a valóságban, valamint a játékban legalább a dobogót elérő góllövők adatait:"
   ]
  },
  {
   "cell_type": "code",
   "execution_count": 31,
   "metadata": {},
   "outputs": [
    {
     "data": {
      "text/html": [
       "<div>\n",
       "<style scoped>\n",
       "    .dataframe tbody tr th:only-of-type {\n",
       "        vertical-align: middle;\n",
       "    }\n",
       "\n",
       "    .dataframe tbody tr th {\n",
       "        vertical-align: top;\n",
       "    }\n",
       "\n",
       "    .dataframe thead th {\n",
       "        text-align: right;\n",
       "    }\n",
       "</style>\n",
       "<table border=\"1\" class=\"dataframe\">\n",
       "  <thead>\n",
       "    <tr style=\"text-align: right;\">\n",
       "      <th></th>\n",
       "      <th>Name</th>\n",
       "      <th>Age</th>\n",
       "      <th>Club</th>\n",
       "      <th>Overall</th>\n",
       "      <th>Potential</th>\n",
       "      <th>Value</th>\n",
       "      <th>Wage</th>\n",
       "      <th>Position</th>\n",
       "      <th>Finishing</th>\n",
       "      <th>ShotPower</th>\n",
       "      <th>LongShots</th>\n",
       "    </tr>\n",
       "  </thead>\n",
       "  <tbody>\n",
       "    <tr>\n",
       "      <th>0</th>\n",
       "      <td>L. Messi</td>\n",
       "      <td>31</td>\n",
       "      <td>FC Barcelona</td>\n",
       "      <td>94</td>\n",
       "      <td>94</td>\n",
       "      <td>€110.5M</td>\n",
       "      <td>€565K</td>\n",
       "      <td>RF</td>\n",
       "      <td>95.0</td>\n",
       "      <td>85.0</td>\n",
       "      <td>94.0</td>\n",
       "    </tr>\n",
       "    <tr>\n",
       "      <th>1</th>\n",
       "      <td>Cristiano Ronaldo</td>\n",
       "      <td>33</td>\n",
       "      <td>Juventus</td>\n",
       "      <td>94</td>\n",
       "      <td>94</td>\n",
       "      <td>€77M</td>\n",
       "      <td>€405K</td>\n",
       "      <td>ST</td>\n",
       "      <td>94.0</td>\n",
       "      <td>95.0</td>\n",
       "      <td>93.0</td>\n",
       "    </tr>\n",
       "    <tr>\n",
       "      <th>10</th>\n",
       "      <td>R. Lewandowski</td>\n",
       "      <td>29</td>\n",
       "      <td>FC Bayern München</td>\n",
       "      <td>90</td>\n",
       "      <td>90</td>\n",
       "      <td>€77M</td>\n",
       "      <td>€205K</td>\n",
       "      <td>ST</td>\n",
       "      <td>91.0</td>\n",
       "      <td>88.0</td>\n",
       "      <td>84.0</td>\n",
       "    </tr>\n",
       "    <tr>\n",
       "      <th>15</th>\n",
       "      <td>P. Dybala</td>\n",
       "      <td>24</td>\n",
       "      <td>Juventus</td>\n",
       "      <td>89</td>\n",
       "      <td>94</td>\n",
       "      <td>€89M</td>\n",
       "      <td>€205K</td>\n",
       "      <td>LF</td>\n",
       "      <td>84.0</td>\n",
       "      <td>82.0</td>\n",
       "      <td>88.0</td>\n",
       "    </tr>\n",
       "    <tr>\n",
       "      <th>17</th>\n",
       "      <td>A. Griezmann</td>\n",
       "      <td>27</td>\n",
       "      <td>Atlético Madrid</td>\n",
       "      <td>89</td>\n",
       "      <td>90</td>\n",
       "      <td>€78M</td>\n",
       "      <td>€145K</td>\n",
       "      <td>CAM</td>\n",
       "      <td>90.0</td>\n",
       "      <td>80.0</td>\n",
       "      <td>82.0</td>\n",
       "    </tr>\n",
       "    <tr>\n",
       "      <th>21</th>\n",
       "      <td>E. Cavani</td>\n",
       "      <td>31</td>\n",
       "      <td>Paris Saint-Germain</td>\n",
       "      <td>89</td>\n",
       "      <td>89</td>\n",
       "      <td>€60M</td>\n",
       "      <td>€200K</td>\n",
       "      <td>LS</td>\n",
       "      <td>89.0</td>\n",
       "      <td>87.0</td>\n",
       "      <td>79.0</td>\n",
       "    </tr>\n",
       "    <tr>\n",
       "      <th>23</th>\n",
       "      <td>S. Agüero</td>\n",
       "      <td>30</td>\n",
       "      <td>Manchester City</td>\n",
       "      <td>89</td>\n",
       "      <td>89</td>\n",
       "      <td>€64.5M</td>\n",
       "      <td>€300K</td>\n",
       "      <td>ST</td>\n",
       "      <td>93.0</td>\n",
       "      <td>88.0</td>\n",
       "      <td>83.0</td>\n",
       "    </tr>\n",
       "    <tr>\n",
       "      <th>26</th>\n",
       "      <td>M. Salah</td>\n",
       "      <td>26</td>\n",
       "      <td>Liverpool</td>\n",
       "      <td>88</td>\n",
       "      <td>89</td>\n",
       "      <td>€69.5M</td>\n",
       "      <td>€255K</td>\n",
       "      <td>RM</td>\n",
       "      <td>90.0</td>\n",
       "      <td>77.0</td>\n",
       "      <td>83.0</td>\n",
       "    </tr>\n",
       "    <tr>\n",
       "      <th>47</th>\n",
       "      <td>R. Lukaku</td>\n",
       "      <td>25</td>\n",
       "      <td>Manchester United</td>\n",
       "      <td>87</td>\n",
       "      <td>89</td>\n",
       "      <td>€62.5M</td>\n",
       "      <td>€230K</td>\n",
       "      <td>ST</td>\n",
       "      <td>87.0</td>\n",
       "      <td>88.0</td>\n",
       "      <td>74.0</td>\n",
       "    </tr>\n",
       "    <tr>\n",
       "      <th>58</th>\n",
       "      <td>S. Mané</td>\n",
       "      <td>26</td>\n",
       "      <td>Liverpool</td>\n",
       "      <td>86</td>\n",
       "      <td>87</td>\n",
       "      <td>€52M</td>\n",
       "      <td>€195K</td>\n",
       "      <td>LM</td>\n",
       "      <td>84.0</td>\n",
       "      <td>82.0</td>\n",
       "      <td>74.0</td>\n",
       "    </tr>\n",
       "    <tr>\n",
       "      <th>61</th>\n",
       "      <td>Roberto Firmino</td>\n",
       "      <td>26</td>\n",
       "      <td>Liverpool</td>\n",
       "      <td>86</td>\n",
       "      <td>87</td>\n",
       "      <td>€53M</td>\n",
       "      <td>€195K</td>\n",
       "      <td>CAM</td>\n",
       "      <td>87.0</td>\n",
       "      <td>81.0</td>\n",
       "      <td>76.0</td>\n",
       "    </tr>\n",
       "    <tr>\n",
       "      <th>365</th>\n",
       "      <td>D. Tadić</td>\n",
       "      <td>29</td>\n",
       "      <td>Ajax</td>\n",
       "      <td>81</td>\n",
       "      <td>81</td>\n",
       "      <td>€17.5M</td>\n",
       "      <td>€26K</td>\n",
       "      <td>LAM</td>\n",
       "      <td>74.0</td>\n",
       "      <td>69.0</td>\n",
       "      <td>65.0</td>\n",
       "    </tr>\n",
       "    <tr>\n",
       "      <th>1403</th>\n",
       "      <td>M. Dembélé</td>\n",
       "      <td>21</td>\n",
       "      <td>Olympique Lyonnais</td>\n",
       "      <td>76</td>\n",
       "      <td>85</td>\n",
       "      <td>€12M</td>\n",
       "      <td>€43K</td>\n",
       "      <td>ST</td>\n",
       "      <td>76.0</td>\n",
       "      <td>75.0</td>\n",
       "      <td>62.0</td>\n",
       "    </tr>\n",
       "  </tbody>\n",
       "</table>\n",
       "</div>"
      ],
      "text/plain": [
       "                   Name  Age                 Club  Overall  Potential  \\\n",
       "0              L. Messi   31         FC Barcelona       94         94   \n",
       "1     Cristiano Ronaldo   33             Juventus       94         94   \n",
       "10       R. Lewandowski   29    FC Bayern München       90         90   \n",
       "15            P. Dybala   24             Juventus       89         94   \n",
       "17         A. Griezmann   27      Atlético Madrid       89         90   \n",
       "21            E. Cavani   31  Paris Saint-Germain       89         89   \n",
       "23            S. Agüero   30      Manchester City       89         89   \n",
       "26             M. Salah   26            Liverpool       88         89   \n",
       "47            R. Lukaku   25    Manchester United       87         89   \n",
       "58              S. Mané   26            Liverpool       86         87   \n",
       "61      Roberto Firmino   26            Liverpool       86         87   \n",
       "365            D. Tadić   29                 Ajax       81         81   \n",
       "1403         M. Dembélé   21   Olympique Lyonnais       76         85   \n",
       "\n",
       "        Value   Wage Position  Finishing  ShotPower  LongShots  \n",
       "0     €110.5M  €565K       RF       95.0       85.0       94.0  \n",
       "1        €77M  €405K       ST       94.0       95.0       93.0  \n",
       "10       €77M  €205K       ST       91.0       88.0       84.0  \n",
       "15       €89M  €205K       LF       84.0       82.0       88.0  \n",
       "17       €78M  €145K      CAM       90.0       80.0       82.0  \n",
       "21       €60M  €200K       LS       89.0       87.0       79.0  \n",
       "23     €64.5M  €300K       ST       93.0       88.0       83.0  \n",
       "26     €69.5M  €255K       RM       90.0       77.0       83.0  \n",
       "47     €62.5M  €230K       ST       87.0       88.0       74.0  \n",
       "58       €52M  €195K       LM       84.0       82.0       74.0  \n",
       "61       €53M  €195K      CAM       87.0       81.0       76.0  \n",
       "365    €17.5M   €26K      LAM       74.0       69.0       65.0  \n",
       "1403     €12M   €43K       ST       76.0       75.0       62.0  "
      ]
     },
     "execution_count": 31,
     "metadata": {},
     "output_type": "execute_result"
    }
   ],
   "source": [
    "gollovok = ('L. Messi', 'R. Lewandowski', 'D. Tadić', 'S. Mané', 'A. Griezmann', 'Cristiano Ronaldo', 'E. Cavani', \n",
    "            'S. Agüero', 'R. Lukaku', 'P. Dybala', 'M. Salah', 'M. Dembélé', 'Roberto Firmino')\n",
    "top = fifa[fifa['Name'].isin(gollovok)]\n",
    "top = top.drop([220, 10585, 11146, 16398]) #név egyezés miatt törölni kell néhány sort\n",
    "top[['Name', 'Age', 'Club', 'Overall', 'Potential', 'Value', 'Wage', 'Position', 'Finishing', 'ShotPower', 'LongShots']]"
   ]
  },
  {
   "cell_type": "markdown",
   "metadata": {},
   "source": [
    "5 szimuláció alatt javarészt csak olyan játékosok kerültek fel a dobogóra, akik oda is valók. Remek adottságaik vannak a gólszerzéshez, és az értékelésük is elég magas. Ami inkább meglepő, hogy bizonyos nevek egyszer sem tudtak a top3-ban végezni, gondolok itt Neymar-ra, vagy Mbappé-ra, akiknek szintén elég jók az adottságik, és támadó játékosok. De tökéletes példa a már említett Lionel Messi is. Nézzük meg ezeket is:"
   ]
  },
  {
   "cell_type": "code",
   "execution_count": 32,
   "metadata": {},
   "outputs": [
    {
     "data": {
      "text/html": [
       "<div>\n",
       "<style scoped>\n",
       "    .dataframe tbody tr th:only-of-type {\n",
       "        vertical-align: middle;\n",
       "    }\n",
       "\n",
       "    .dataframe tbody tr th {\n",
       "        vertical-align: top;\n",
       "    }\n",
       "\n",
       "    .dataframe thead th {\n",
       "        text-align: right;\n",
       "    }\n",
       "</style>\n",
       "<table border=\"1\" class=\"dataframe\">\n",
       "  <thead>\n",
       "    <tr style=\"text-align: right;\">\n",
       "      <th></th>\n",
       "      <th>Name</th>\n",
       "      <th>Age</th>\n",
       "      <th>Club</th>\n",
       "      <th>Overall</th>\n",
       "      <th>Potential</th>\n",
       "      <th>Value</th>\n",
       "      <th>Wage</th>\n",
       "      <th>Position</th>\n",
       "      <th>Finishing</th>\n",
       "      <th>ShotPower</th>\n",
       "      <th>LongShots</th>\n",
       "    </tr>\n",
       "  </thead>\n",
       "  <tbody>\n",
       "    <tr>\n",
       "      <th>0</th>\n",
       "      <td>L. Messi</td>\n",
       "      <td>31</td>\n",
       "      <td>FC Barcelona</td>\n",
       "      <td>94</td>\n",
       "      <td>94</td>\n",
       "      <td>€110.5M</td>\n",
       "      <td>€565K</td>\n",
       "      <td>RF</td>\n",
       "      <td>95.0</td>\n",
       "      <td>85.0</td>\n",
       "      <td>94.0</td>\n",
       "    </tr>\n",
       "    <tr>\n",
       "      <th>2</th>\n",
       "      <td>Neymar Jr</td>\n",
       "      <td>26</td>\n",
       "      <td>Paris Saint-Germain</td>\n",
       "      <td>92</td>\n",
       "      <td>93</td>\n",
       "      <td>€118.5M</td>\n",
       "      <td>€290K</td>\n",
       "      <td>LW</td>\n",
       "      <td>87.0</td>\n",
       "      <td>80.0</td>\n",
       "      <td>82.0</td>\n",
       "    </tr>\n",
       "    <tr>\n",
       "      <th>25</th>\n",
       "      <td>K. Mbappé</td>\n",
       "      <td>19</td>\n",
       "      <td>Paris Saint-Germain</td>\n",
       "      <td>88</td>\n",
       "      <td>95</td>\n",
       "      <td>€81M</td>\n",
       "      <td>€100K</td>\n",
       "      <td>RM</td>\n",
       "      <td>88.0</td>\n",
       "      <td>79.0</td>\n",
       "      <td>78.0</td>\n",
       "    </tr>\n",
       "  </tbody>\n",
       "</table>\n",
       "</div>"
      ],
      "text/plain": [
       "         Name  Age                 Club  Overall  Potential    Value   Wage  \\\n",
       "0    L. Messi   31         FC Barcelona       94         94  €110.5M  €565K   \n",
       "2   Neymar Jr   26  Paris Saint-Germain       92         93  €118.5M  €290K   \n",
       "25  K. Mbappé   19  Paris Saint-Germain       88         95     €81M  €100K   \n",
       "\n",
       "   Position  Finishing  ShotPower  LongShots  \n",
       "0        RF       95.0       85.0       94.0  \n",
       "2        LW       87.0       80.0       82.0  \n",
       "25       RM       88.0       79.0       78.0  "
      ]
     },
     "execution_count": 32,
     "metadata": {},
     "output_type": "execute_result"
    }
   ],
   "source": [
    "pelda = ('L. Messi', 'Neymar Jr', 'K. Mbappé')\n",
    "top = fifa[fifa['Name'].isin(pelda)]\n",
    "top[['Name', 'Age', 'Club', 'Overall', 'Potential', 'Value', 'Wage', 'Position', 'Finishing', 'ShotPower', 'LongShots']]"
   ]
  },
  {
   "cell_type": "markdown",
   "metadata": {},
   "source": [
    "Ehhez képest figyeljük meg, hogy milyen kvalitású játékos nem csak bejutott a top3-ba, de meg is nyerte a góllövőlistát:"
   ]
  },
  {
   "cell_type": "code",
   "execution_count": 33,
   "metadata": {},
   "outputs": [
    {
     "data": {
      "text/plain": [
       "Name                 M. Dembélé\n",
       "Age                          21\n",
       "Club         Olympique Lyonnais\n",
       "Overall                      76\n",
       "Potential                    85\n",
       "Value                      €12M\n",
       "Wage                       €43K\n",
       "Position                     ST\n",
       "Finishing                    76\n",
       "ShotPower                    75\n",
       "LongShots                    62\n",
       "Name: 1403, dtype: object"
      ]
     },
     "execution_count": 33,
     "metadata": {},
     "output_type": "execute_result"
    }
   ],
   "source": [
    "top = fifa.iloc[1403]\n",
    "top[['Name', 'Age', 'Club', 'Overall', 'Potential', 'Value', 'Wage', 'Position', 'Finishing', 'ShotPower', 'LongShots']]"
   ]
  },
  {
   "cell_type": "markdown",
   "metadata": {},
   "source": [
    "Egyetlen adata sem közelíti meg a feljebb említett nevekét."
   ]
  },
  {
   "cell_type": "markdown",
   "metadata": {},
   "source": [
    "Mindent összevetve, összefoglaljuk, hogy miket szűrhetünk le a valós eredmények, valós erőviszonyok, és a FIFA19-ben elért szimulációk közötti kapcsolatról. Bár sok esetben nagyon jól modellezték, hogy mely csapatok a legerősebbek, mely játékosok a legjobbak, mégis nagyon érdekes eredmények születtek sokszor a játékban. Azt vehetjük észre, hogy a szimulációban van egy elég nagy random faktor, nem egyértelműen a legjobb csapatok nyerék a BL-t, nem a legjobb támadók lőtték a legtöbb gólt. Ez résben tükrözi a valóságot, mert a labda gömbölyű, és nem mindig nyer a legjobb csapat. Azonban ennek ellenére is születtek érdekes eredmények, például a Juventus és a Liverpool 3-3 alkalommal járt a BL döntőben, míg a legértékesebb csapatok, csak néhányat említve, Real Madrid, Barcelona, Bayern München, PSG, Manchester City még csak nem is jutott el egyszer sem a döntőig, ellenben egy sokkal gyengébb játékerőt képviselő Porto vagy Lyon igen. A játékosoknál is hasonló a helyzet, hiszen nem a legjobb támadók lőtték a legtöbb gólt, ellenben volt meglepetés nyertes is Dembelé személyében."
   ]
  },
  {
   "cell_type": "markdown",
   "metadata": {},
   "source": [
    "Forrás: https://www.kaggle.com/karangadiya/fifa19"
   ]
  },
  {
   "cell_type": "code",
   "execution_count": null,
   "metadata": {},
   "outputs": [],
   "source": []
  }
 ],
 "metadata": {
  "kernelspec": {
   "display_name": "Python 3",
   "language": "python",
   "name": "python3"
  },
  "language_info": {
   "codemirror_mode": {
    "name": "ipython",
    "version": 3
   },
   "file_extension": ".py",
   "mimetype": "text/x-python",
   "name": "python",
   "nbconvert_exporter": "python",
   "pygments_lexer": "ipython3",
   "version": "3.8.5"
  }
 },
 "nbformat": 4,
 "nbformat_minor": 4
}
